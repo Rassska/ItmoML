{
  "nbformat": 4,
  "nbformat_minor": 0,
  "metadata": {
    "colab": {
      "name": "lab 7.1 pytorch tasks.ipynb\"",
      "provenance": []
    },
    "kernelspec": {
      "display_name": "Python 3",
      "language": "python",
      "name": "python3"
    },
    "language_info": {
      "codemirror_mode": {
        "name": "ipython",
        "version": 3
      },
      "file_extension": ".py",
      "mimetype": "text/x-python",
      "name": "python",
      "nbconvert_exporter": "python",
      "pygments_lexer": "ipython3",
      "version": "3.6.5"
    },
    "accelerator": "GPU"
  },
  "cells": [
    {
      "cell_type": "markdown",
      "metadata": {
        "id": "vcnGdgw_YJ8u"
      },
      "source": [
        "# PyTorch. Основы: синтаксис, torch.cuda и torch.autograd\n",
        "\n",
        "## Задание 7.1"
      ]
    },
    {
      "cell_type": "code",
      "metadata": {
        "id": "RtyozNmmYJ89"
      },
      "source": [
        "import torch\n",
        "import matplotlib.pyplot as plt\n",
        "from torch.autograd import Variable"
      ],
      "execution_count": 2,
      "outputs": []
    },
    {
      "cell_type": "markdown",
      "metadata": {
        "id": "ny4-Qi2wYJ-6"
      },
      "source": [
        "### Задача 1"
      ]
    },
    {
      "cell_type": "markdown",
      "metadata": {
        "id": "IWxlFq0bYJ-_"
      },
      "source": [
        "1). Создайте два вещественных тензора: `a` размером (3, 4) и `b` размером (12,)   \n",
        "2). Создайте тензор `c`, являющийся тензором `b`, но размера (2, 2, 3)  \n",
        "3). Выведите первый столбец матрицы `a` с помощью индексации"
      ]
    },
    {
      "cell_type": "code",
      "metadata": {
        "id": "3oxZuk3yYJ_A",
        "colab": {
          "base_uri": "https://localhost:8080/"
        },
        "outputId": "7fd6d74e-8765-4aab-b126-51c640bfe7a0"
      },
      "source": [
        "# 1.1.1\n",
        "\n",
        "a1 = torch.FloatTensor([[1.1, 2.2, 3.3, 4.4], \n",
        "                       [4.4, 5.5, 6.6, 7.7], \n",
        "                       [7.7, 8.8, 9.9, 1.1]])\n",
        "a1.shape"
      ],
      "execution_count": 3,
      "outputs": [
        {
          "output_type": "execute_result",
          "data": {
            "text/plain": [
              "torch.Size([3, 4])"
            ]
          },
          "metadata": {},
          "execution_count": 3
        }
      ]
    },
    {
      "cell_type": "code",
      "source": [
        "# 1.1.2\n",
        "\n",
        "b1 = torch.FloatTensor([1.1, 2.2, 3.3, 4.4, 5.5, 6.6, 7.7, 8.8, 9.9, 1.1, 2.2, 3.3])\n",
        "b1.shape"
      ],
      "metadata": {
        "colab": {
          "base_uri": "https://localhost:8080/"
        },
        "id": "0uRTtr6N4dqT",
        "outputId": "562849ca-6bed-4ea4-b61e-9814f506c7f2"
      },
      "execution_count": 4,
      "outputs": [
        {
          "output_type": "execute_result",
          "data": {
            "text/plain": [
              "torch.Size([12])"
            ]
          },
          "metadata": {},
          "execution_count": 4
        }
      ]
    },
    {
      "cell_type": "code",
      "source": [
        "# 1.2\n",
        "\n",
        "c1 = b1.view(2, 2, 3)\n",
        "c1.shape"
      ],
      "metadata": {
        "colab": {
          "base_uri": "https://localhost:8080/"
        },
        "id": "us7gioGT4yip",
        "outputId": "e029e9b0-a1e0-4af3-aed0-974ecf39b45a"
      },
      "execution_count": 5,
      "outputs": [
        {
          "output_type": "execute_result",
          "data": {
            "text/plain": [
              "torch.Size([2, 2, 3])"
            ]
          },
          "metadata": {},
          "execution_count": 5
        }
      ]
    },
    {
      "cell_type": "code",
      "source": [
        "# 1.3 \n",
        "\n",
        "[row[0].item() for row in a1]"
      ],
      "metadata": {
        "colab": {
          "base_uri": "https://localhost:8080/"
        },
        "id": "gi6xC9ao5JNU",
        "outputId": "609a57b2-6c0a-47f8-f980-74ea5a79c796"
      },
      "execution_count": 6,
      "outputs": [
        {
          "output_type": "execute_result",
          "data": {
            "text/plain": [
              "[1.100000023841858, 4.400000095367432, 7.699999809265137]"
            ]
          },
          "metadata": {},
          "execution_count": 6
        }
      ]
    },
    {
      "cell_type": "markdown",
      "metadata": {
        "id": "D2IP_FrKYKAA"
      },
      "source": [
        "### Задача 2"
      ]
    },
    {
      "cell_type": "markdown",
      "metadata": {
        "id": "tBZFbSYQYKAA"
      },
      "source": [
        "1). Создайте два вещественных тензора: `a` размером (5, 2) и `b` размером (1,10)   \n",
        "2). Создайте тензор `c`, являющийся тензором `b`, но размера (5, 2)  \n",
        "3). Произведите все арифметические операции с тензорами `a` и `c`"
      ]
    },
    {
      "cell_type": "code",
      "metadata": {
        "id": "hzs2bH3GYKAB"
      },
      "source": [
        "# 2.1.1 && 2.1.2\n",
        "\n",
        "a2 = torch.FloatTensor([[1.1, 2.2], [3.3, 4.4], [5.5, 6.6], [7.7, 8.8], [9.9, 1.1]])\n",
        "b2 = torch.FloatTensor([-1.1, -2.2, -3.3, -4.4, -5.5, -6.6, -7.7, -8.8, -9.9, -1.1])"
      ],
      "execution_count": 7,
      "outputs": []
    },
    {
      "cell_type": "code",
      "source": [
        "# 2.2\n",
        "\n",
        "c2 = b2.view(5, 2)\n",
        "print(c2)"
      ],
      "metadata": {
        "colab": {
          "base_uri": "https://localhost:8080/"
        },
        "id": "Rstj1TJZ6BEZ",
        "outputId": "142b19b2-1437-48e2-ea6f-175d681741b9"
      },
      "execution_count": 8,
      "outputs": [
        {
          "output_type": "stream",
          "name": "stdout",
          "text": [
            "tensor([[-1.1000, -2.2000],\n",
            "        [-3.3000, -4.4000],\n",
            "        [-5.5000, -6.6000],\n",
            "        [-7.7000, -8.8000],\n",
            "        [-9.9000, -1.1000]])\n"
          ]
        }
      ]
    },
    {
      "cell_type": "code",
      "source": [
        "# 2.3\n",
        "\n",
        "print(a2, '\\n', c2)"
      ],
      "metadata": {
        "colab": {
          "base_uri": "https://localhost:8080/"
        },
        "id": "PM5AnrWR6_Cq",
        "outputId": "e0d5cd1b-7610-417c-ea4c-7852cf558eb6"
      },
      "execution_count": 9,
      "outputs": [
        {
          "output_type": "stream",
          "name": "stdout",
          "text": [
            "tensor([[1.1000, 2.2000],\n",
            "        [3.3000, 4.4000],\n",
            "        [5.5000, 6.6000],\n",
            "        [7.7000, 8.8000],\n",
            "        [9.9000, 1.1000]]) \n",
            " tensor([[-1.1000, -2.2000],\n",
            "        [-3.3000, -4.4000],\n",
            "        [-5.5000, -6.6000],\n",
            "        [-7.7000, -8.8000],\n",
            "        [-9.9000, -1.1000]])\n"
          ]
        }
      ]
    },
    {
      "cell_type": "code",
      "source": [
        "print(\"Tensor sum: \")\n",
        "temp = a2.add(c2) # tensor sum\n",
        "# (a2 + c2) is an alternative way\n",
        "print(temp, '\\n')\n",
        "\n",
        "print(\"Tensor sub: \")\n",
        "temp = a2.sub(c2) # tensor subtracting\n",
        "# (a2 - c2) is an alternative way\n",
        "print(temp, '\\n')\n",
        "\n",
        "print(\"Tensor prod: \")\n",
        "temp = a2.mul(c2) # tensor product\n",
        "# (a2 * c2) is an alternative way\n",
        "print(temp, '\\n')\n",
        "\n",
        "print(\"Tensor div: \")\n",
        "temp = a2.div(c2) # tensor division\n",
        "# (a2 / c2) is an alternative way\n",
        "print(temp, '\\n')"
      ],
      "metadata": {
        "colab": {
          "base_uri": "https://localhost:8080/"
        },
        "id": "zzR0kbF67Hcs",
        "outputId": "2a1ee03f-b0e6-481d-83de-b49a149cd744"
      },
      "execution_count": 10,
      "outputs": [
        {
          "output_type": "stream",
          "name": "stdout",
          "text": [
            "Tensor sum: \n",
            "tensor([[0., 0.],\n",
            "        [0., 0.],\n",
            "        [0., 0.],\n",
            "        [0., 0.],\n",
            "        [0., 0.]]) \n",
            "\n",
            "Tensor sub: \n",
            "tensor([[ 2.2000,  4.4000],\n",
            "        [ 6.6000,  8.8000],\n",
            "        [11.0000, 13.2000],\n",
            "        [15.4000, 17.6000],\n",
            "        [19.8000,  2.2000]]) \n",
            "\n",
            "Tensor prod: \n",
            "tensor([[ -1.2100,  -4.8400],\n",
            "        [-10.8900, -19.3600],\n",
            "        [-30.2500, -43.5600],\n",
            "        [-59.2900, -77.4400],\n",
            "        [-98.0100,  -1.2100]]) \n",
            "\n",
            "Tensor div: \n",
            "tensor([[-1., -1.],\n",
            "        [-1., -1.],\n",
            "        [-1., -1.],\n",
            "        [-1., -1.],\n",
            "        [-1., -1.]]) \n",
            "\n"
          ]
        }
      ]
    },
    {
      "cell_type": "markdown",
      "metadata": {
        "id": "rIaroFO6YKBT"
      },
      "source": [
        "### Задача 3"
      ]
    },
    {
      "cell_type": "markdown",
      "metadata": {
        "id": "GfLHVvKvYKBT"
      },
      "source": [
        "1). Создайте тензор *целых чисел* `images` размерности (100, 200, 200, 3) (можно интерпретировать это как 100 картинок размера 200х200 с тремя цветовыми каналами, то есть 100 цветных изображений 200х200). Заполните его нулями  \n",
        "\n",
        "2). Сделайте так, чтобы у $i$-ой по порядку картинки была нарисована белая полоса толщиной два пикселя в строках, которые соответствуют номеру картинки. Например, у 3-ей по порядку картинки белая полоска будет занимать 6 и 7 строки, у 99 - 198 и 199. Сделать белую строку можно, записав в ячейки тензора число 255 (по всем трём каналам). Выведите несколько примеров с помощью `pylot`  \n",
        "\n",
        "3). Посчитайте среднее тензора `images` по 1-ой оси (по сути - средняя картинка), умножьте полученный тензор на 70. Нарисуйте с помощью `pyplot`, должна получиться серая картинка (при взятии среднего нужно привести тензор к float с помощью `.float()`, при отрисовке обратно к int с помощью `.int()`)"
      ]
    },
    {
      "cell_type": "code",
      "metadata": {
        "id": "pZVGHEQQYKBU",
        "colab": {
          "base_uri": "https://localhost:8080/",
          "height": 286
        },
        "outputId": "73f4b061-36e2-4562-85ff-774bdcd9f72e"
      },
      "source": [
        "images = torch.IntTensor(100, 200, 200, 3).zero_()\n",
        "\n",
        "plt.imshow(images[99])"
      ],
      "execution_count": 11,
      "outputs": [
        {
          "output_type": "execute_result",
          "data": {
            "text/plain": [
              "<matplotlib.image.AxesImage at 0x7f02149652d0>"
            ]
          },
          "metadata": {},
          "execution_count": 11
        },
        {
          "output_type": "display_data",
          "data": {
            "text/plain": [
              "<Figure size 432x288 with 1 Axes>"
            ],
            "image/png": "[encoded data removed]"
          },
          "metadata": {
            "needs_background": "light"
          }
        }
      ]
    },
    {
      "cell_type": "code",
      "source": [
        "for i in range(images.shape[0]):\n",
        "  images[i][i * 2] = 255\n",
        "  images[i][i * 2 + 1] = 255"
      ],
      "metadata": {
        "id": "FYkLaovGCPQy"
      },
      "execution_count": 12,
      "outputs": []
    },
    {
      "cell_type": "code",
      "source": [
        "plt.imshow(images[55])"
      ],
      "metadata": {
        "colab": {
          "base_uri": "https://localhost:8080/",
          "height": 286
        },
        "id": "OzniznLvCpo1",
        "outputId": "a9b1ee41-e070-473c-e9e5-d9547c1adcd6"
      },
      "execution_count": 13,
      "outputs": [
        {
          "output_type": "execute_result",
          "data": {
            "text/plain": [
              "<matplotlib.image.AxesImage at 0x7f021447cf90>"
            ]
          },
          "metadata": {},
          "execution_count": 13
        },
        {
          "output_type": "display_data",
          "data": {
            "text/plain": [
              "<Figure size 432x288 with 1 Axes>"
            ],
            "image/png": "[encoded data removed]"
          },
          "metadata": {
            "needs_background": "light"
          }
        }
      ]
    },
    {
      "cell_type": "code",
      "source": [
        "plt.imshow(images[22])"
      ],
      "metadata": {
        "colab": {
          "base_uri": "https://localhost:8080/",
          "height": 286
        },
        "id": "8YpGoRxKC0Wf",
        "outputId": "245c7ddb-d9e2-4d86-bb43-ff2a44394376"
      },
      "execution_count": 14,
      "outputs": [
        {
          "output_type": "execute_result",
          "data": {
            "text/plain": [
              "<matplotlib.image.AxesImage at 0x7f02143f3c10>"
            ]
          },
          "metadata": {},
          "execution_count": 14
        },
        {
          "output_type": "display_data",
          "data": {
            "text/plain": [
              "<Figure size 432x288 with 1 Axes>"
            ],
            "image/png": "[encoded data removed]"
          },
          "metadata": {
            "needs_background": "light"
          }
        }
      ]
    },
    {
      "cell_type": "code",
      "source": [
        "value = (images.float()[1].mean() * 70).item()\n",
        "\n",
        "temp_img = images.clone()\n",
        "temp_img[0] = value\n",
        "\n",
        "temp_gray_img = temp_img[0].int()\n",
        "plt.imshow(temp_gray_img)"
      ],
      "metadata": {
        "colab": {
          "base_uri": "https://localhost:8080/",
          "height": 286
        },
        "id": "zsxaosKHDDmN",
        "outputId": "7db0e224-04f5-4c3c-fb22-28e8e98a86e2"
      },
      "execution_count": 15,
      "outputs": [
        {
          "output_type": "execute_result",
          "data": {
            "text/plain": [
              "<matplotlib.image.AxesImage at 0x7f0214361b10>"
            ]
          },
          "metadata": {},
          "execution_count": 15
        },
        {
          "output_type": "display_data",
          "data": {
            "text/plain": [
              "<Figure size 432x288 with 1 Axes>"
            ],
            "image/png": "[encoded data removed]"
          },
          "metadata": {
            "needs_background": "light"
          }
        }
      ]
    },
    {
      "cell_type": "markdown",
      "metadata": {
        "id": "oQnhq5ZdYKCu"
      },
      "source": [
        "### Задача 4"
      ]
    },
    {
      "cell_type": "markdown",
      "metadata": {
        "id": "UB95BhgTYKCu"
      },
      "source": [
        "- В Colab нажмите в меню сверху: `Runtime` -> `Change Runtime Type` -> `GPU`, где изначально стоит `None` (`Среда выполнение` - `Сменить среду выполнения`)\n",
        "- Объявите тензор `a` размера (2, 3, 4) и тензор `b` размера (1, 8, 3) на GPU, иницилизируйте их случайно равномерно (`.uniform_()`)\n",
        "- Затем измените форму тензора `b`, чтобы она совпадала с формой тензора `a`, получите тензор `c`  \n",
        "- Переместите `c` на CPU, переместите `a` на CPU  \n",
        "- Оберните их в `Variable()`\n",
        "- Объявите тензор `L = torch.mean((c - a) `**` 2)` и посчитайте градиент `L` по `c` ( то есть $\\frac{\\partial{L}}{\\partial{c}})$\n",
        "- Выведите градиент `L` по `c`"
      ]
    },
    {
      "cell_type": "code",
      "metadata": {
        "id": "WESOm5TCYKCv"
      },
      "source": [
        "device = 'cuda' if torch.cuda.is_available() else 'cpu'\n",
        "\n",
        "a4 = torch.FloatTensor(2, 3, 4).uniform_().to(device)\n",
        "b4 = torch.FloatTensor(1, 8, 3).uniform_().to(device)"
      ],
      "execution_count": 16,
      "outputs": []
    },
    {
      "cell_type": "code",
      "source": [
        "# b4"
      ],
      "metadata": {
        "colab": {
          "base_uri": "https://localhost:8080/"
        },
        "id": "W3GBwx6CEoMY",
        "outputId": "dc6d7688-2277-41a5-9be6-ea4c052ec0b9"
      },
      "execution_count": 19,
      "outputs": [
        {
          "output_type": "execute_result",
          "data": {
            "text/plain": [
              "tensor([[[0.4647, 0.9651, 0.8865],\n",
              "         [0.1757, 0.8433, 0.4014],\n",
              "         [0.8461, 0.9389, 0.1305],\n",
              "         [0.2956, 0.0837, 0.3652],\n",
              "         [0.8515, 0.1958, 0.8621],\n",
              "         [0.3942, 0.8353, 0.6456],\n",
              "         [0.5609, 0.8920, 0.8954],\n",
              "         [0.6439, 0.3612, 0.7264]]], device='cuda:0')"
            ]
          },
          "metadata": {},
          "execution_count": 19
        }
      ]
    },
    {
      "cell_type": "code",
      "source": [
        "c4 = b4.view(a4.shape)\n",
        "c4.shape"
      ],
      "metadata": {
        "colab": {
          "base_uri": "https://localhost:8080/"
        },
        "id": "aNLRnRxCE0ey",
        "outputId": "418a903d-7104-41aa-ae95-75db16ff13c7"
      },
      "execution_count": 20,
      "outputs": [
        {
          "output_type": "execute_result",
          "data": {
            "text/plain": [
              "torch.Size([2, 3, 4])"
            ]
          },
          "metadata": {},
          "execution_count": 20
        }
      ]
    },
    {
      "cell_type": "code",
      "source": [
        "a4 = a4.to('cpu')\n",
        "c4 = c4.to('cpu')"
      ],
      "metadata": {
        "id": "A0Vi2X6YE6-8"
      },
      "execution_count": 21,
      "outputs": []
    },
    {
      "cell_type": "code",
      "source": [
        "#a4"
      ],
      "metadata": {
        "colab": {
          "base_uri": "https://localhost:8080/"
        },
        "id": "p0qTA1RfE-gt",
        "outputId": "e7e45a4a-fb9c-4df9-b3a4-ac54881b75bc"
      },
      "execution_count": 22,
      "outputs": [
        {
          "output_type": "execute_result",
          "data": {
            "text/plain": [
              "tensor([[[0.9024, 0.7408, 0.4362, 0.3656],\n",
              "         [0.2950, 0.4499, 0.7788, 0.2114],\n",
              "         [0.8451, 0.0977, 0.9136, 0.4238]],\n",
              "\n",
              "        [[0.1696, 0.1588, 0.8418, 0.3253],\n",
              "         [0.5969, 0.8586, 0.0465, 0.4468],\n",
              "         [0.0791, 0.2586, 0.9660, 0.2390]]])"
            ]
          },
          "metadata": {},
          "execution_count": 22
        }
      ]
    },
    {
      "cell_type": "code",
      "source": [
        "a4 = Variable(a4, requires_grad=True)\n",
        "c4 = Variable(c4, requires_grad=True)"
      ],
      "metadata": {
        "id": "cxkK8PxcFDJS"
      },
      "execution_count": 23,
      "outputs": []
    },
    {
      "cell_type": "code",
      "source": [
        "l = torch.mean((c4 - a4) ** 2)\n",
        "l.backward()"
      ],
      "metadata": {
        "id": "TRRD_FVrFPR7"
      },
      "execution_count": 24,
      "outputs": []
    },
    {
      "cell_type": "code",
      "source": [
        "c4.grad"
      ],
      "metadata": {
        "colab": {
          "base_uri": "https://localhost:8080/"
        },
        "id": "y-HHf1yiFaeh",
        "outputId": "285a3f99-97fe-4e92-87a2-94f02aa973dc"
      },
      "execution_count": 25,
      "outputs": [
        {
          "output_type": "execute_result",
          "data": {
            "text/plain": [
              "tensor([[[-0.0365,  0.0187,  0.0375, -0.0158],\n",
              "         [ 0.0457, -0.0040,  0.0056,  0.0606],\n",
              "         [-0.0595,  0.0165, -0.0692, -0.0049]],\n",
              "\n",
              "        [[ 0.0568,  0.0031,  0.0017,  0.0057],\n",
              "         [ 0.0199, -0.0177,  0.0429,  0.0371],\n",
              "         [ 0.0680,  0.0321, -0.0504,  0.0406]]])"
            ]
          },
          "metadata": {},
          "execution_count": 25
        }
      ]
    }
  ]
}