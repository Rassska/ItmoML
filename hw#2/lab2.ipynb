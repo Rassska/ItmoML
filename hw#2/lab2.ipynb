{
  "nbformat": 4,
  "nbformat_minor": 0,
  "metadata": {
    "hide_input": false,
    "kernelspec": {
      "display_name": "Python 3",
      "language": "python",
      "name": "python3"
    },
    "language_info": {
      "codemirror_mode": {
        "name": "ipython",
        "version": 3
      },
      "file_extension": ".py",
      "mimetype": "text/x-python",
      "name": "python",
      "nbconvert_exporter": "python",
      "pygments_lexer": "ipython3",
      "version": "3.7.1"
    },
    "toc": {
      "base_numbering": 1,
      "nav_menu": {},
      "number_sections": true,
      "sideBar": true,
      "skip_h1_title": false,
      "title_cell": "Table of Contents",
      "title_sidebar": "Contents",
      "toc_cell": true,
      "toc_position": {},
      "toc_section_display": true,
      "toc_window_display": false
    },
    "varInspector": {
      "cols": {
        "lenName": 16,
        "lenType": 16,
        "lenVar": 40
      },
      "kernels_config": {
        "python": {
          "delete_cmd_postfix": "",
          "delete_cmd_prefix": "del ",
          "library": "var_list.py",
          "varRefreshCmd": "print(var_dic_list())"
        },
        "r": {
          "delete_cmd_postfix": ") ",
          "delete_cmd_prefix": "rm(",
          "library": "var_list.r",
          "varRefreshCmd": "cat(var_dic_list()) "
        }
      },
      "types_to_exclude": [
        "module",
        "function",
        "builtin_function_or_method",
        "instance",
        "_Feature"
      ],
      "window_display": false
    },
    "colab": {
      "name": "\"lab2.ipynb\"",
      "provenance": []
    }
  },
  "cells": [
    {
      "cell_type": "markdown",
      "metadata": {
        "id": "xjvL0IIG8Jd0"
      },
      "source": [
        "## Задание 0\n"
      ]
    },
    {
      "cell_type": "markdown",
      "metadata": {
        "id": "yaSxXHvxO0qo"
      },
      "source": [
        "Для всех  заданий будем использовать обезличенные транзакционные банковские данные. Для этого считайте в переменные **tr_mcc_codes, tr_types, transactions и gender_train** из одноимённых таблиц из папки [data](https://drive.google.com/drive/folders/1YAMe7MiTxA-RSSd8Ex2p-L0Dspe6Gs4L). \n",
        "\n",
        "Для таблицы transactions используйте только первые n=1000000 строк. При чтении файлов обратите внимание на разделители внутри каждого из файлов - они могут различаться!"
      ]
    },
    {
      "cell_type": "code",
      "metadata": {
        "colab": {
          "base_uri": "https://localhost:8080/"
        },
        "id": "AbDsE0Yfl0KZ",
        "outputId": "258be779-57ab-4051-ce41-99b524defc9e"
      },
      "source": [
        "import pandas as pd\n",
        "import numpy as np\n",
        "import math\n",
        "\n",
        "from google.colab import drive \n",
        "drive.mount('/content/drive')"
      ],
      "execution_count": 91,
      "outputs": [
        {
          "output_type": "stream",
          "name": "stdout",
          "text": [
            "Drive already mounted at /content/drive; to attempt to forcibly remount, call drive.mount(\"/content/drive\", force_remount=True).\n"
          ]
        }
      ]
    },
    {
      "cell_type": "code",
      "metadata": {
        "id": "jGpTNsTBXEF6"
      },
      "source": [
        "tr_mcc_codes_path = '/content/drive/MyDrive/Data/tr_mcc_codes.csv'\n",
        "tr_types_path = '/content/drive/MyDrive/Data/tr_types.csv'\n",
        "gender_train_path = '/content/drive/MyDrive/Data/gender_train.csv'\n",
        "transaction_path = '/content/drive/MyDrive/Data/transactions.csv'\n",
        "\n",
        "tr_mcc_codes_df = pd.read_csv(tr_mcc_codes_path, sep = ';')\n",
        "tr_types_df = pd.read_csv(tr_types_path, sep = \";\")\n",
        "gender_train_df = pd.read_csv(gender_train_path, sep = \",\")\n",
        "transaction_df = pd.read_csv(transaction_path, sep = ',', nrows = 1000000)\n"
      ],
      "execution_count": null,
      "outputs": []
    },
    {
      "cell_type": "markdown",
      "metadata": {
        "id": "oP3lX9xC8Jd8"
      },
      "source": [
        "###  Описание данных\n",
        "#### Таблица ```transactions.csv```\n",
        "##### Описание\n",
        "Таблица содержит историю транзакций клиентов банка за один год и три месяца.\n",
        "\n",
        "##### Формат данных\n",
        "\n",
        "```\n",
        "customer_id,tr_datetime,mcc_code,tr_type,amount,term_id\n",
        "111111,15 01:40:52,1111,1000,-5224,111111\n",
        "111112,15 15:18:32,3333,2000,-100,11122233\n",
        "...\n",
        "```\n",
        "##### Описание полей\n",
        "\n",
        " - ```customer_id``` — идентификатор клиента;\n",
        " - ```tr_datetime``` — день и время совершения транзакции (дни нумеруются с начала данных);\n",
        " - ```mcc_code``` — mcc-код транзакции;\n",
        " - ```tr_type``` — тип транзакции;\n",
        " - ```amount``` — сумма транзакции в условных единицах со знаком; ```+``` — начисление средств клиенту (приходная транзакция), ```-``` — списание средств (расходная транзакция);\n",
        " - ```term_id``` — идентификатор терминала;\n",
        "\n",
        "\n",
        "#### Таблица ```gender_train.csv```\n",
        "\n",
        "##### Описание\n",
        "Данная таблица содержит информацию по полу для части клиентов, для которых он известен. Для остальных клиентов пол неизвестен.\n",
        "\n",
        "##### Формат данных\n",
        "```\n",
        "customer_id,gender\n",
        "111111,0\n",
        "111112,1\n",
        "...\n",
        "```\n",
        "\n",
        "##### Описание полей\n",
        " - ```customer_id``` — идентификатор клиента;\n",
        " - ```gender``` — пол клиента;\n",
        "\n",
        "### Таблица ```tr_mcc_codes.csv```\n",
        "\n",
        "##### Описание\n",
        "Данная таблица содержит описание mcc-кодов транзакций.\n",
        "\n",
        "##### Формат данных\n",
        "```\n",
        "mcc_code;mcc_description\n",
        "1000;словесное описание mcc-кода 1000\n",
        "2000;словесное описание mcc-кода 2000\n",
        "...\n",
        "```\n",
        "\n",
        "##### Описание полей\n",
        " - ```mcc_code``` – mcc-код транзакции;\n",
        " - ```mcc_description``` — описание mcc-кода транзакции.\n",
        "\n",
        "#### Таблица ```tr_types.csv```\n",
        "\n",
        "##### Описание\n",
        "Данная таблица содержит описание типов транзакций.\n",
        "\n",
        "##### Формат данных\n",
        "```\n",
        "tr_type;tr_description\n",
        "1000;словесное описание типа транзакции 1000\n",
        "2000;словесное описание типа транзакции 2000\n",
        "...\n",
        "```\n",
        "\n",
        "##### Описание полей\n",
        " - ```tr_type``` – тип транзакции;\n",
        " - ```tr_description``` — описание типа транзакции;"
      ]
    },
    {
      "cell_type": "markdown",
      "metadata": {
        "id": "04CYsBKz8JeB"
      },
      "source": [
        "\n",
        "Задания 1-4 делаются без использования merge!\n",
        "\n",
        "## Задание 1\n",
        "\n"
      ]
    },
    {
      "cell_type": "markdown",
      "metadata": {
        "id": "1hcrfwsYN_Yz"
      },
      "source": [
        "1. Для столбца tr_type датафрейма transactions выберите произвольные 1000 строк с помощью метода sample\n",
        "2. В полученной на предыдущем этапе подвыборке найдите долю транзакций (стобец tr_description в датасете tr_types), в которой содержится подстрока 'POS' или 'ATM'\n"
      ]
    },
    {
      "cell_type": "code",
      "metadata": {
        "colab": {
          "base_uri": "https://localhost:8080/",
          "height": 424
        },
        "id": "vQ7v_Nl4qftN",
        "outputId": "27ac1253-194c-43c1-cf7b-6c07012553d2"
      },
      "source": [
        "random_transactions = transaction_df['tr_type'].sample(n = 1000)\n",
        "\n",
        "temp_df = pd.merge(random_transactions, tr_types_df, on = 'tr_type')\n",
        "temp_df = temp_df[temp_df['tr_description'].str.contains('ATM|POS')]\n",
        "temp_df"
      ],
      "execution_count": null,
      "outputs": [
        {
          "output_type": "execute_result",
          "data": {
            "text/html": [
              "\n",
              "  <div id=\"df-d34ef21c-f56d-4ae9-82ec-505636fb20b2\">\n",
              "    <div class=\"colab-df-container\">\n",
              "      <div>\n",
              "<style scoped>\n",
              "    .dataframe tbody tr th:only-of-type {\n",
              "        vertical-align: middle;\n",
              "    }\n",
              "\n",
              "    .dataframe tbody tr th {\n",
              "        vertical-align: top;\n",
              "    }\n",
              "\n",
              "    .dataframe thead th {\n",
              "        text-align: right;\n",
              "    }\n",
              "</style>\n",
              "<table border=\"1\" class=\"dataframe\">\n",
              "  <thead>\n",
              "    <tr style=\"text-align: right;\">\n",
              "      <th></th>\n",
              "      <th>tr_type</th>\n",
              "      <th>tr_description</th>\n",
              "    </tr>\n",
              "  </thead>\n",
              "  <tbody>\n",
              "    <tr>\n",
              "      <th>454</th>\n",
              "      <td>1210</td>\n",
              "      <td>Покупка. POS  Зарубеж. ТУ</td>\n",
              "    </tr>\n",
              "    <tr>\n",
              "      <th>455</th>\n",
              "      <td>1210</td>\n",
              "      <td>Покупка. POS  Зарубеж. ТУ</td>\n",
              "    </tr>\n",
              "    <tr>\n",
              "      <th>456</th>\n",
              "      <td>1210</td>\n",
              "      <td>Покупка. POS  Зарубеж. ТУ</td>\n",
              "    </tr>\n",
              "    <tr>\n",
              "      <th>457</th>\n",
              "      <td>1210</td>\n",
              "      <td>Покупка. POS  Зарубеж. ТУ</td>\n",
              "    </tr>\n",
              "    <tr>\n",
              "      <th>458</th>\n",
              "      <td>1210</td>\n",
              "      <td>Покупка. POS  Зарубеж. ТУ</td>\n",
              "    </tr>\n",
              "    <tr>\n",
              "      <th>...</th>\n",
              "      <td>...</td>\n",
              "      <td>...</td>\n",
              "    </tr>\n",
              "    <tr>\n",
              "      <th>986</th>\n",
              "      <td>7020</td>\n",
              "      <td>Взнос наличных через POS</td>\n",
              "    </tr>\n",
              "    <tr>\n",
              "      <th>987</th>\n",
              "      <td>7020</td>\n",
              "      <td>Взнос наличных через POS</td>\n",
              "    </tr>\n",
              "    <tr>\n",
              "      <th>995</th>\n",
              "      <td>2320</td>\n",
              "      <td>Безналичный перевод денежных средств через POS</td>\n",
              "    </tr>\n",
              "    <tr>\n",
              "      <th>996</th>\n",
              "      <td>2320</td>\n",
              "      <td>Безналичный перевод денежных средств через POS</td>\n",
              "    </tr>\n",
              "    <tr>\n",
              "      <th>997</th>\n",
              "      <td>2320</td>\n",
              "      <td>Безналичный перевод денежных средств через POS</td>\n",
              "    </tr>\n",
              "  </tbody>\n",
              "</table>\n",
              "<p>381 rows × 2 columns</p>\n",
              "</div>\n",
              "      <button class=\"colab-df-convert\" onclick=\"convertToInteractive('df-d34ef21c-f56d-4ae9-82ec-505636fb20b2')\"\n",
              "              title=\"Convert this dataframe to an interactive table.\"\n",
              "              style=\"display:none;\">\n",
              "        \n",
              "  <svg xmlns=\"http://www.w3.org/2000/svg\" height=\"24px\"viewBox=\"0 0 24 24\"\n",
              "       width=\"24px\">\n",
              "    <path d=\"M0 0h24v24H0V0z\" fill=\"none\"/>\n",
              "    <path d=\"M18.56 5.44l.94 2.06.94-2.06 2.06-.94-2.06-.94-.94-2.06-.94 2.06-2.06.94zm-11 1L8.5 8.5l.94-2.06 2.06-.94-2.06-.94L8.5 2.5l-.94 2.06-2.06.94zm10 10l.94 2.06.94-2.06 2.06-.94-2.06-.94-.94-2.06-.94 2.06-2.06.94z\"/><path d=\"M17.41 7.96l-1.37-1.37c-.4-.4-.92-.59-1.43-.59-.52 0-1.04.2-1.43.59L10.3 9.45l-7.72 7.72c-.78.78-.78 2.05 0 2.83L4 21.41c.39.39.9.59 1.41.59.51 0 1.02-.2 1.41-.59l7.78-7.78 2.81-2.81c.8-.78.8-2.07 0-2.86zM5.41 20L4 18.59l7.72-7.72 1.47 1.35L5.41 20z\"/>\n",
              "  </svg>\n",
              "      </button>\n",
              "      \n",
              "  <style>\n",
              "    .colab-df-container {\n",
              "      display:flex;\n",
              "      flex-wrap:wrap;\n",
              "      gap: 12px;\n",
              "    }\n",
              "\n",
              "    .colab-df-convert {\n",
              "      background-color: #E8F0FE;\n",
              "      border: none;\n",
              "      border-radius: 50%;\n",
              "      cursor: pointer;\n",
              "      display: none;\n",
              "      fill: #1967D2;\n",
              "      height: 32px;\n",
              "      padding: 0 0 0 0;\n",
              "      width: 32px;\n",
              "    }\n",
              "\n",
              "    .colab-df-convert:hover {\n",
              "      background-color: #E2EBFA;\n",
              "      box-shadow: 0px 1px 2px rgba(60, 64, 67, 0.3), 0px 1px 3px 1px rgba(60, 64, 67, 0.15);\n",
              "      fill: #174EA6;\n",
              "    }\n",
              "\n",
              "    [theme=dark] .colab-df-convert {\n",
              "      background-color: #3B4455;\n",
              "      fill: #D2E3FC;\n",
              "    }\n",
              "\n",
              "    [theme=dark] .colab-df-convert:hover {\n",
              "      background-color: #434B5C;\n",
              "      box-shadow: 0px 1px 3px 1px rgba(0, 0, 0, 0.15);\n",
              "      filter: drop-shadow(0px 1px 2px rgba(0, 0, 0, 0.3));\n",
              "      fill: #FFFFFF;\n",
              "    }\n",
              "  </style>\n",
              "\n",
              "      <script>\n",
              "        const buttonEl =\n",
              "          document.querySelector('#df-d34ef21c-f56d-4ae9-82ec-505636fb20b2 button.colab-df-convert');\n",
              "        buttonEl.style.display =\n",
              "          google.colab.kernel.accessAllowed ? 'block' : 'none';\n",
              "\n",
              "        async function convertToInteractive(key) {\n",
              "          const element = document.querySelector('#df-d34ef21c-f56d-4ae9-82ec-505636fb20b2');\n",
              "          const dataTable =\n",
              "            await google.colab.kernel.invokeFunction('convertToInteractive',\n",
              "                                                     [key], {});\n",
              "          if (!dataTable) return;\n",
              "\n",
              "          const docLinkHtml = 'Like what you see? Visit the ' +\n",
              "            '<a target=\"_blank\" href=https://colab.research.google.com/notebooks/data_table.ipynb>data table notebook</a>'\n",
              "            + ' to learn more about interactive tables.';\n",
              "          element.innerHTML = '';\n",
              "          dataTable['output_type'] = 'display_data';\n",
              "          await google.colab.output.renderOutput(dataTable, element);\n",
              "          const docLink = document.createElement('div');\n",
              "          docLink.innerHTML = docLinkHtml;\n",
              "          element.appendChild(docLink);\n",
              "        }\n",
              "      </script>\n",
              "    </div>\n",
              "  </div>\n",
              "  "
            ],
            "text/plain": [
              "     tr_type                                  tr_description\n",
              "454     1210                       Покупка. POS  Зарубеж. ТУ\n",
              "455     1210                       Покупка. POS  Зарубеж. ТУ\n",
              "456     1210                       Покупка. POS  Зарубеж. ТУ\n",
              "457     1210                       Покупка. POS  Зарубеж. ТУ\n",
              "458     1210                       Покупка. POS  Зарубеж. ТУ\n",
              "..       ...                                             ...\n",
              "986     7020                        Взнос наличных через POS\n",
              "987     7020                        Взнос наличных через POS\n",
              "995     2320  Безналичный перевод денежных средств через POS\n",
              "996     2320  Безналичный перевод денежных средств через POS\n",
              "997     2320  Безналичный перевод денежных средств через POS\n",
              "\n",
              "[381 rows x 2 columns]"
            ]
          },
          "metadata": {},
          "execution_count": 28
        }
      ]
    },
    {
      "cell_type": "code",
      "source": [
        "print(len(temp_df) / 1000)"
      ],
      "metadata": {
        "colab": {
          "base_uri": "https://localhost:8080/"
        },
        "id": "QprzHRiR0AbS",
        "outputId": "889e311d-64b2-40a2-a802-43b483438578"
      },
      "execution_count": null,
      "outputs": [
        {
          "output_type": "stream",
          "name": "stdout",
          "text": [
            "0.381\n"
          ]
        }
      ]
    },
    {
      "cell_type": "markdown",
      "metadata": {
        "id": "fiZBDIZt8JeS"
      },
      "source": [
        "## Задание 2 \n"
      ]
    },
    {
      "cell_type": "markdown",
      "metadata": {
        "id": "FFKeBUThOCrz"
      },
      "source": [
        "1. Для столбца tr_type датафрейма transactions посчитайте частоту встречаемости всех типов транзакций tr_type в transactions.\n",
        "2. Выведите топ-10 транзакций по частоте встречаемости (вывести для них tr_description тоже)."
      ]
    },
    {
      "cell_type": "code",
      "metadata": {
        "colab": {
          "base_uri": "https://localhost:8080/"
        },
        "id": "qAmb8k1LaWhf",
        "outputId": "861e51e5-cb71-4b67-d2c1-a05f74d8d465"
      },
      "source": [
        "# 3.1\n",
        "trans_df = transaction_df\n",
        "trans_df['tr_type'].value_counts()\n"
      ],
      "execution_count": null,
      "outputs": [
        {
          "output_type": "execute_result",
          "data": {
            "text/plain": [
              "1010    231117\n",
              "2010    151166\n",
              "7070    149006\n",
              "1110    137658\n",
              "1030    118975\n",
              "         ...  \n",
              "2446         4\n",
              "4096         4\n",
              "8146         3\n",
              "1510         2\n",
              "8100         2\n",
              "Name: tr_type, Length: 72, dtype: int64"
            ]
          },
          "metadata": {},
          "execution_count": 30
        }
      ]
    },
    {
      "cell_type": "code",
      "source": [
        "# 3.2\n",
        "top10list = trans_df['tr_type'].value_counts()[:10].index.to_list()\n",
        "print(top10list)"
      ],
      "metadata": {
        "colab": {
          "base_uri": "https://localhost:8080/"
        },
        "id": "6pNXEr9Cp1hF",
        "outputId": "f545a51d-d505-47b8-e7d4-7db04eb9b858"
      },
      "execution_count": null,
      "outputs": [
        {
          "output_type": "stream",
          "name": "stdout",
          "text": [
            "[1010, 2010, 7070, 1110, 1030, 2370, 7010, 7030, 7071, 1100]\n"
          ]
        }
      ]
    },
    {
      "cell_type": "code",
      "source": [
        "# 3.2 (tr_descriptions)\n",
        "\n",
        "for tr_type_temp in top10list:\n",
        "  print('For tr_type: ', tr_type_temp, \"tr_description is \", transaction_df.loc[transaction_df['tr_type'] == tr_type_temp, 'tr_description'].iloc[0])\n",
        "\n",
        "# df.loc[df['B'] == 3, 'A'].iloc[0]  stackoverflow <З"
      ],
      "metadata": {
        "colab": {
          "base_uri": "https://localhost:8080/"
        },
        "id": "zxeyp5N73x3V",
        "outputId": "134455a7-c3cd-46b9-dea1-2f6dddab995c"
      },
      "execution_count": null,
      "outputs": [
        {
          "output_type": "stream",
          "name": "stdout",
          "text": [
            "For tr_type:  1010 tr_description is  Покупка. POS ТУ СБ РФ\n",
            "For tr_type:  2010 tr_description is  Выдача наличных в АТМ Сбербанк России\n",
            "For tr_type:  7070 tr_description is  Перевод на карту (с карты) через Мобильный банк (без взимания комиссии с отправителя)\n",
            "For tr_type:  1110 tr_description is  Покупка. POS ТУ Россия\n",
            "For tr_type:  1030 tr_description is  Оплата услуги. Банкоматы СБ РФ\n",
            "For tr_type:  2370 tr_description is  Списание с карты на карту по операции <перевода с карты на карту> через Мобильный банк (без комиссии)\n",
            "For tr_type:  7010 tr_description is  Взнос наличных через АТМ (в своем тер.банке)\n",
            "For tr_type:  7030 tr_description is  Перевод на карту (с карты) через АТМ (в пределах одного тер.банка)\n",
            "For tr_type:  7071 tr_description is  Перевод на карту (с карты) через Мобильный банк (с взиманием комиссии с отправителя)\n",
            "For tr_type:  1100 tr_description is  Покупка. ТУ  Россия\n"
          ]
        }
      ]
    },
    {
      "cell_type": "markdown",
      "metadata": {
        "id": "gnNPfqcGaRTI"
      },
      "source": [
        ""
      ]
    },
    {
      "cell_type": "markdown",
      "metadata": {
        "id": "mktm_JeA8JeX"
      },
      "source": [
        "## Задание 3\n",
        "1. В датафрейме transactions найдите клиента с максимальной суммой приходов на карту\n",
        "2. В датафрейме transactions найдите клиента с максимальной суммой расходов по карте\n",
        "3. Найдите модуль разницы для этих клиентов между суммой расходов и суммой приходов"
      ]
    },
    {
      "cell_type": "code",
      "metadata": {
        "colab": {
          "base_uri": "https://localhost:8080/"
        },
        "id": "v-5I3j-vtoVE",
        "outputId": "eab1fd22-e700-452d-da28-912ce0115a3c"
      },
      "source": [
        "income_df = transaction_df.loc[transaction_df['amount'] > 0]\n",
        "income_df = income_df[['customer_id','amount']]\n",
        "\n",
        "outcome_df = transaction_df.loc[transaction_df['amount'] <= 0]\n",
        "outcome_df = outcome_df[['customer_id','amount']]\n",
        "\n",
        "all_customer_income_df = income_df.groupby('customer_id').sum()\n",
        "all_customer_outcome_df = outcome_df.groupby('customer_id').sum()\n",
        "\n",
        "all_customer_income_df = all_customer_income_df.sort_values(by = ['amount'], ascending = False)\n",
        "all_customer_outcome_df = all_customer_outcome_df.sort_values(by = ['amount'])\n",
        "\n",
        "income_max = all_customer_income_df['amount'].to_list()[0]\n",
        "outcome_max = all_customer_outcome_df['amount'].to_list()[0]\n",
        "\n",
        "# 3.1 && 3.2\n",
        "print(\"Maximum income and outcome respectively: \")\n",
        "print(income_max, outcome_max)\n",
        "\n",
        "max_customer_income_id = all_customer_income_df.index[all_customer_income_df['amount'] == income_max].to_list()\n",
        "max_customer_outcome_id = all_customer_outcome_df.index[all_customer_outcome_df['amount'] == outcome_max].to_list()\n",
        "\n",
        "print(\"Maximum income and outcome customers' ids respectively:\")\n",
        "print(max_customer_income_id, max_customer_outcome_id)\n",
        "\n",
        "# 3.3\n",
        "print(\"Diff: \")\n",
        "print(income_max + outcome_max)\n",
        "\n",
        "\n",
        "\n"
      ],
      "execution_count": null,
      "outputs": [
        {
          "output_type": "stream",
          "name": "stdout",
          "text": [
            "Maximum income and outcome respectively: \n",
            "1248114886.81 -1249952204.79\n",
            "Maximum income and outcome customers' ids respectively:\n",
            "[70780820] [70780820]\n",
            "Diff: \n",
            "-1837317.980000019\n"
          ]
        }
      ]
    },
    {
      "cell_type": "markdown",
      "metadata": {
        "id": "BYrJ5b_E8Jee"
      },
      "source": [
        "## Задание 4\n",
        "1. Найдите среднее арифметическое и медиану по amount по всем типам транзакций из топ 10 из задания 2\n",
        "1. Найдите среднее арифметическое и медиану по amount по всем типам транзакций для клиентов из задания 3"
      ]
    },
    {
      "cell_type": "code",
      "metadata": {
        "colab": {
          "base_uri": "https://localhost:8080/"
        },
        "id": "JbVSI7w-yOU4",
        "outputId": "be4077a3-30cc-4f1f-fece-80789287d3c6"
      },
      "source": [
        "# 4.1\n",
        "top_transactions_by_amount = transaction_df['tr_type'].value_counts()\n",
        "top_transactions_by_amount = top_transactions_by_amount.sort_values(ascending = False).head(10)\n",
        "\n",
        "for tr_type in top_transactions_by_amount.index:\n",
        "  current_tr_type_transactions_df = transaction_df[transaction_df['tr_type'] == tr_type]\n",
        "  current_tr_type_median = current_tr_type_transactions_df['amount'].median()\n",
        "  print('median for transaction type ', tr_type, ' is: ', current_tr_type_median)\n",
        "  current_tr_type_mean = current_tr_type_transactions_df['amount'].mean()\n",
        "  print('mean for transaction type ', tr_type, ' is: ', current_tr_type_mean)\n",
        "  print('\\n')"
      ],
      "execution_count": null,
      "outputs": [
        {
          "output_type": "stream",
          "name": "stdout",
          "text": [
            "median for transaction type  1010  is:  -7411.52\n",
            "mean for transaction type  1010  is:  -19784.748639648315\n",
            "\n",
            "\n",
            "median for transaction type  2010  is:  -44918.32\n",
            "mean for transaction type  2010  is:  -136077.62932505234\n",
            "\n",
            "\n",
            "median for transaction type  7070  is:  11319.42\n",
            "mean for transaction type  7070  is:  65569.83170018934\n",
            "\n",
            "\n",
            "median for transaction type  1110  is:  -11207.57\n",
            "mean for transaction type  1110  is:  -32119.33037077222\n",
            "\n",
            "\n",
            "median for transaction type  1030  is:  -2245.92\n",
            "mean for transaction type  1030  is:  -5320.9802218113155\n",
            "\n",
            "\n",
            "median for transaction type  2370  is:  -44918.32\n",
            "mean for transaction type  2370  is:  -205418.24903167944\n",
            "\n",
            "\n",
            "median for transaction type  7010  is:  112295.79\n",
            "mean for transaction type  7010  is:  276391.7895961331\n",
            "\n",
            "\n",
            "median for transaction type  7030  is:  13951.52\n",
            "mean for transaction type  7030  is:  86104.33290896451\n",
            "\n",
            "\n",
            "median for transaction type  7071  is:  3593.47\n",
            "mean for transaction type  7071  is:  66806.82662251407\n",
            "\n",
            "\n",
            "median for transaction type  1100  is:  -10188.259999999998\n",
            "mean for transaction type  1100  is:  -44061.827261566534\n",
            "\n",
            "\n"
          ]
        }
      ]
    },
    {
      "cell_type": "code",
      "source": [
        "# 4.2 (Max income customer)\n",
        "\n",
        "max_income_customer = transaction_df[transaction_df['customer_id'] == max_customer_income_id[0]]\n",
        "max_income_customer_types = max_income_customer['tr_type'].unique()\n",
        "\n",
        "print('Medians and means for customer with a max income: \\n')\n",
        "for tr_type_temp in max_income_customer_types:\n",
        "  curr_tr_type_median = max_income_customer[max_income_customer['tr_type'] == tr_type_temp]['amount'].median()\n",
        "  print('For tr_type: ', tr_type_temp, \"median is \", curr_tr_type_median)\n",
        "  curr_tr_type_mean = max_income_customer[max_income_customer['tr_type'] == tr_type_temp]['amount'].mean()\n",
        "  print('For tr_type: ', tr_type_temp, \"mean is \", curr_tr_type_mean, '\\n')"
      ],
      "metadata": {
        "colab": {
          "base_uri": "https://localhost:8080/"
        },
        "id": "UQ5k6WqP3ULs",
        "outputId": "f5288525-e576-4150-cc9c-40dbedccca49"
      },
      "execution_count": 89,
      "outputs": [
        {
          "output_type": "stream",
          "name": "stdout",
          "text": [
            "Medians and means for customer with a max income: \n",
            "\n",
            "For tr_type:  2010 median is  -3368873.66\n",
            "For tr_type:  2010 mean is  -2941055.8709415505 \n",
            "\n",
            "For tr_type:  2330 median is  -2245915.77\n",
            "For tr_type:  2330 mean is  -2382398.344615385 \n",
            "\n",
            "For tr_type:  2370 median is  -2245915.77\n",
            "For tr_type:  2370 mean is  -2218504.987086618 \n",
            "\n",
            "For tr_type:  6110 median is  10028.01\n",
            "For tr_type:  6110 mean is  17562.93173076922 \n",
            "\n",
            "For tr_type:  7020 median is  10319.985\n",
            "For tr_type:  7020 mean is  14651.290741626804 \n",
            "\n",
            "For tr_type:  7070 median is  8714.15\n",
            "For tr_type:  7070 mean is  13848.205232082266 \n",
            "\n",
            "For tr_type:  7030 median is  8848.91\n",
            "For tr_type:  7030 mean is  14061.955241583857 \n",
            "\n",
            "For tr_type:  7071 median is  12543.439999999999\n",
            "For tr_type:  7071 mean is  18600.572007692284 \n",
            "\n",
            "For tr_type:  7021 median is  28500.67\n",
            "For tr_type:  7021 mean is  28500.67 \n",
            "\n",
            "For tr_type:  7031 median is  12992.619999999999\n",
            "For tr_type:  7031 mean is  19210.358452380955 \n",
            "\n",
            "For tr_type:  7074 median is  9387.93\n",
            "For tr_type:  7074 mean is  22811.59307692308 \n",
            "\n",
            "For tr_type:  7040 median is  14396.32\n",
            "For tr_type:  7040 mean is  21538.332000000002 \n",
            "\n",
            "For tr_type:  7034 median is  14306.48\n",
            "For tr_type:  7034 mean is  14306.48 \n",
            "\n"
          ]
        }
      ]
    },
    {
      "cell_type": "code",
      "source": [
        "# 4.2 (Max outcome customer)\n",
        "max_outcome_customer = transaction_df[transaction_df['customer_id'] == max_customer_outcome_id[0]]\n",
        "max_outcome_customer_types = max_outcome_customer['tr_type'].unique()\n",
        "\n",
        "print('Medians and means for customer with a max outcome: \\n')\n",
        "for tr_type_temp in max_outcome_customer_types:\n",
        "  curr_tr_type_median = max_outcome_customer[max_outcome_customer['tr_type'] == tr_type_temp]['amount'].median()\n",
        "  print('For tr_type: ', tr_type_temp, \"median is \", curr_tr_type_median)\n",
        "  curr_tr_type_mean = max_outcome_customer[max_outcome_customer['tr_type'] == tr_type_temp]['amount'].mean()\n",
        "  print('For tr_type: ', tr_type_temp, \"mean is \", curr_tr_type_mean, '\\n')\n",
        "\n"
      ],
      "metadata": {
        "colab": {
          "base_uri": "https://localhost:8080/"
        },
        "id": "-eXV5jXaP_DW",
        "outputId": "959205c0-f331-47dc-ce01-f55751cfb0ce"
      },
      "execution_count": 90,
      "outputs": [
        {
          "output_type": "stream",
          "name": "stdout",
          "text": [
            "Medians and means for customer with a max outcome: \n",
            "\n",
            "For tr_type:  2010 median is  -3368873.66\n",
            "For tr_type:  2010 mean is  -2941055.8709415505 \n",
            "\n",
            "For tr_type:  2330 median is  -2245915.77\n",
            "For tr_type:  2330 mean is  -2382398.344615385 \n",
            "\n",
            "For tr_type:  2370 median is  -2245915.77\n",
            "For tr_type:  2370 mean is  -2218504.987086618 \n",
            "\n",
            "For tr_type:  6110 median is  10028.01\n",
            "For tr_type:  6110 mean is  17562.93173076922 \n",
            "\n",
            "For tr_type:  7020 median is  10319.985\n",
            "For tr_type:  7020 mean is  14651.290741626804 \n",
            "\n",
            "For tr_type:  7070 median is  8714.15\n",
            "For tr_type:  7070 mean is  13848.205232082266 \n",
            "\n",
            "For tr_type:  7030 median is  8848.91\n",
            "For tr_type:  7030 mean is  14061.955241583857 \n",
            "\n",
            "For tr_type:  7071 median is  12543.439999999999\n",
            "For tr_type:  7071 mean is  18600.572007692284 \n",
            "\n",
            "For tr_type:  7021 median is  28500.67\n",
            "For tr_type:  7021 mean is  28500.67 \n",
            "\n",
            "For tr_type:  7031 median is  12992.619999999999\n",
            "For tr_type:  7031 mean is  19210.358452380955 \n",
            "\n",
            "For tr_type:  7074 median is  9387.93\n",
            "For tr_type:  7074 mean is  22811.59307692308 \n",
            "\n",
            "For tr_type:  7040 median is  14396.32\n",
            "For tr_type:  7040 mean is  21538.332000000002 \n",
            "\n",
            "For tr_type:  7034 median is  14306.48\n",
            "For tr_type:  7034 mean is  14306.48 \n",
            "\n"
          ]
        }
      ]
    },
    {
      "cell_type": "markdown",
      "metadata": {
        "id": "BYXwM4l3QDBu"
      },
      "source": [
        "## Подготовка для заданий 5-8"
      ]
    },
    {
      "cell_type": "markdown",
      "metadata": {
        "id": "XWQzFeKcQHRe"
      },
      "source": [
        "*Из заданий 5-8 нужно выполнить минимум два любых*\n",
        "\n",
        "Соедините transactions с всеми остальными таблицами (tr_mcc_codes, tr_types, gender_train). Причём с gender_train необходимо смёрджиться с помощью left join, а с оставшимися датафреймами - через inner.\n",
        "После получения результата таблицы gender_train, tr_types, tr_mcc_codes можно удалить. В результате соединения датафреймов должно получиться 999584 строки."
      ]
    },
    {
      "cell_type": "code",
      "metadata": {
        "id": "sndJxjJ7QQf5",
        "colab": {
          "base_uri": "https://localhost:8080/"
        },
        "outputId": "04d4e8bf-91ab-4c64-ce9e-8624f02c11fa"
      },
      "source": [
        "transaction_df = pd.merge(transaction_df, gender_train_df, how='left')\n",
        "transaction_df = pd.merge(transaction_df, tr_mcc_codes_df, how='inner')\n",
        "transaction_df = pd.merge(transaction_df, tr_types_df, how='inner')\n",
        "transaction_df.shape"
      ],
      "execution_count": null,
      "outputs": [
        {
          "output_type": "execute_result",
          "data": {
            "text/plain": [
              "(999584, 9)"
            ]
          },
          "metadata": {},
          "execution_count": 51
        }
      ]
    },
    {
      "cell_type": "markdown",
      "metadata": {
        "id": "8vrFauJ8QgmT"
      },
      "source": [
        "## Задание 5"
      ]
    },
    {
      "cell_type": "markdown",
      "metadata": {
        "id": "rOjEQ5xyQfE_"
      },
      "source": [
        "1. Определите модуль разницы между средними тратами женщин и мужчин (трата - отрицательное значение amount).\n",
        "2. Определите модуль разницы между средними поступлениями у мужчин и женщин\n",
        "\n",
        "Обратите внимание, что для вычисления модуля разности точных знаний о том, \n",
        "какой класc относится к мужчинам, а какой - к женщинам, не требуется."
      ]
    },
    {
      "cell_type": "code",
      "metadata": {
        "colab": {
          "base_uri": "https://localhost:8080/"
        },
        "id": "vB-QskNmPmQj",
        "outputId": "1ddf8d0e-755e-4ff6-eb9f-059cc0e6ebdb"
      },
      "source": [
        "# 5.1\n",
        "gender_number_zerro = transaction_df[(transaction_df['gender'] == 0) & (transaction_df['amount'] < 0)]\n",
        "gender_number_one = transaction_df[(transaction_df['gender'] == 1) & (transaction_df['amount'] < 0)]\n",
        "\n",
        "print('module out of mean for outcome: ', math.fabs(math.fabs(gender_number_zerro['amount'].mean()) - math.fabs(gender_number_one['amount'].mean())))"
      ],
      "execution_count": 92,
      "outputs": [
        {
          "output_type": "stream",
          "name": "stdout",
          "text": [
            "module out of mean for outcome:  32718.05492021877\n"
          ]
        }
      ]
    },
    {
      "cell_type": "code",
      "source": [
        "# 5.2\n",
        "\n",
        "gender_number_zerro = transaction_df[(transaction_df['gender'] == 0) & (transaction_df['amount'] > 0)]\n",
        "gender_number_one = transaction_df[(transaction_df['gender'] == 1) & (transaction_df['amount'] > 0)]\n",
        "\n",
        "print('module out of mean for outcome: ', math.fabs(math.fabs(gender_number_zerro['amount'].mean()) - math.fabs(gender_number_one['amount'].mean())))"
      ],
      "metadata": {
        "colab": {
          "base_uri": "https://localhost:8080/"
        },
        "id": "YZwwK6iCQ49i",
        "outputId": "87ea0168-c5bb-4856-f326-10bfa8823eb4"
      },
      "execution_count": 93,
      "outputs": [
        {
          "output_type": "stream",
          "name": "stdout",
          "text": [
            "module out of mean for outcome:  63366.57104801515\n"
          ]
        }
      ]
    },
    {
      "cell_type": "markdown",
      "metadata": {
        "id": "DSHFLbepQ7G1"
      },
      "source": [
        "## Задание 6"
      ]
    },
    {
      "cell_type": "markdown",
      "metadata": {
        "id": "2EF1490bQ-17"
      },
      "source": [
        "1. По всем типам транзакций рассчитайте максимальную сумму прихода на карту (из строго положительных сумм по столбцу amount) отдельно для мужчин и женщин (назовите ее \"max_income\"). Оставьте по 10 типов транзакций для мужчин и для женщин, наименьших среди всех типов транзакций по полученным значениям \"max_income\". \n",
        "2. Выделите среди них те типы транзакций, которые встречаются одновременно и у мужчин, и у женщин"
      ]
    },
    {
      "cell_type": "code",
      "metadata": {
        "colab": {
          "base_uri": "https://localhost:8080/"
        },
        "id": "TKb5RUooZbR5",
        "outputId": "61d970d9-ab44-428f-d302-a361c0f4acd0"
      },
      "source": [
        "zerro_curr_transactions = pd.DataFrame([])\n",
        "one_curr_transactions = pd.DataFrame([])\n",
        "\n",
        "for tr_type in tr_types_df['tr_type']:\n",
        "\n",
        "  zerro = transaction_df[(transaction_df['tr_type'] == tr_type) & (transaction_df['gender'] == 0) & (transaction_df['amount'] > 0)]\n",
        "  one = transaction_df[(transaction_df['tr_type'] == tr_type) & (transaction_df['gender'] == 1) & (transaction_df['amount'] > 0)]\n",
        "\n",
        "  if zerro.size > 0:\n",
        "    zerro_curr_index = zerro['amount'].idxmax()\n",
        "    zerro_curr_transactions = zerro_curr_transactions.append(transaction_df.loc[zerro_curr_index])\n",
        "\n",
        "  if one.size > 0:\n",
        "    one_curr_index = one['amount'].idxmax()\n",
        "    one_curr_transactions = one_curr_transactions.append(transaction_df.loc[one_curr_index])\n",
        "\n",
        "zerro_top = zerro_curr_transactions['amount'].sort_values().head(10)\n",
        "one_top = one_curr_transactions['amount'].sort_values().head(10)\n",
        "\n",
        "print('Top minimum by max_income for the gender number zerro: ')\n",
        "print(zerro_top, '\\n')\n",
        "\n",
        "print('Top minimum by max_income for the gender number one: ')\n",
        "print(one_top)\n"
      ],
      "execution_count": 109,
      "outputs": [
        {
          "output_type": "stream",
          "name": "stdout",
          "text": [
            "Top minimum by max_income for the gender number zerro: \n",
            "782598     1122.96\n",
            "715900     2245.92\n",
            "713566     2245.92\n",
            "752472     2335.75\n",
            "718156     5041.86\n",
            "998258     6737.75\n",
            "714837    22459.16\n",
            "321089    24839.83\n",
            "669411    44918.32\n",
            "716363    68315.82\n",
            "Name: amount, dtype: float64 \n",
            "\n",
            "Top minimum by max_income for the gender number one: \n",
            "713615      2245.92\n",
            "802537      2245.92\n",
            "386903     28803.87\n",
            "518893     64682.37\n",
            "999567     79280.83\n",
            "998278     87590.72\n",
            "638141     89836.63\n",
            "714995    112295.79\n",
            "755215    113194.15\n",
            "718186    121279.45\n",
            "Name: amount, dtype: float64\n"
          ]
        }
      ]
    },
    {
      "cell_type": "code",
      "source": [
        "zerro_top = zerro_curr_transactions.sort_values(by = ['amount']).head(10)\n",
        "one_top = one_curr_transactions.sort_values(by = ['amount']).head(10)\n",
        "\n",
        "zerro_tr_types = zerro_top['tr_type'].unique()\n",
        "one_tr_types = one_top['tr_type'].unique()\n",
        "\n",
        "the_same_types = pd.merge(zerro_top, one_top, on='tr_type', how='inner')\n",
        "the_same_types[['tr_type', 'amount_x','amount_y']]"
      ],
      "metadata": {
        "colab": {
          "base_uri": "https://localhost:8080/",
          "height": 206
        },
        "id": "40enbm6mW4RX",
        "outputId": "0e4927d2-3cde-4bed-c170-5a754b26d64b"
      },
      "execution_count": 110,
      "outputs": [
        {
          "output_type": "execute_result",
          "data": {
            "text/html": [
              "\n",
              "  <div id=\"df-879a4ad4-a063-43d4-a86e-5c078b2bc977\">\n",
              "    <div class=\"colab-df-container\">\n",
              "      <div>\n",
              "<style scoped>\n",
              "    .dataframe tbody tr th:only-of-type {\n",
              "        vertical-align: middle;\n",
              "    }\n",
              "\n",
              "    .dataframe tbody tr th {\n",
              "        vertical-align: top;\n",
              "    }\n",
              "\n",
              "    .dataframe thead th {\n",
              "        text-align: right;\n",
              "    }\n",
              "</style>\n",
              "<table border=\"1\" class=\"dataframe\">\n",
              "  <thead>\n",
              "    <tr style=\"text-align: right;\">\n",
              "      <th></th>\n",
              "      <th>tr_type</th>\n",
              "      <th>amount_x</th>\n",
              "      <th>amount_y</th>\n",
              "    </tr>\n",
              "  </thead>\n",
              "  <tbody>\n",
              "    <tr>\n",
              "      <th>0</th>\n",
              "      <td>4110.0</td>\n",
              "      <td>2245.92</td>\n",
              "      <td>2245.92</td>\n",
              "    </tr>\n",
              "    <tr>\n",
              "      <th>1</th>\n",
              "      <td>2370.0</td>\n",
              "      <td>2335.75</td>\n",
              "      <td>113194.15</td>\n",
              "    </tr>\n",
              "    <tr>\n",
              "      <th>2</th>\n",
              "      <td>2110.0</td>\n",
              "      <td>22459.16</td>\n",
              "      <td>112295.79</td>\n",
              "    </tr>\n",
              "    <tr>\n",
              "      <th>3</th>\n",
              "      <td>1010.0</td>\n",
              "      <td>24839.83</td>\n",
              "      <td>28803.87</td>\n",
              "    </tr>\n",
              "    <tr>\n",
              "      <th>4</th>\n",
              "      <td>2010.0</td>\n",
              "      <td>44918.32</td>\n",
              "      <td>89836.63</td>\n",
              "    </tr>\n",
              "  </tbody>\n",
              "</table>\n",
              "</div>\n",
              "      <button class=\"colab-df-convert\" onclick=\"convertToInteractive('df-879a4ad4-a063-43d4-a86e-5c078b2bc977')\"\n",
              "              title=\"Convert this dataframe to an interactive table.\"\n",
              "              style=\"display:none;\">\n",
              "        \n",
              "  <svg xmlns=\"http://www.w3.org/2000/svg\" height=\"24px\"viewBox=\"0 0 24 24\"\n",
              "       width=\"24px\">\n",
              "    <path d=\"M0 0h24v24H0V0z\" fill=\"none\"/>\n",
              "    <path d=\"M18.56 5.44l.94 2.06.94-2.06 2.06-.94-2.06-.94-.94-2.06-.94 2.06-2.06.94zm-11 1L8.5 8.5l.94-2.06 2.06-.94-2.06-.94L8.5 2.5l-.94 2.06-2.06.94zm10 10l.94 2.06.94-2.06 2.06-.94-2.06-.94-.94-2.06-.94 2.06-2.06.94z\"/><path d=\"M17.41 7.96l-1.37-1.37c-.4-.4-.92-.59-1.43-.59-.52 0-1.04.2-1.43.59L10.3 9.45l-7.72 7.72c-.78.78-.78 2.05 0 2.83L4 21.41c.39.39.9.59 1.41.59.51 0 1.02-.2 1.41-.59l7.78-7.78 2.81-2.81c.8-.78.8-2.07 0-2.86zM5.41 20L4 18.59l7.72-7.72 1.47 1.35L5.41 20z\"/>\n",
              "  </svg>\n",
              "      </button>\n",
              "      \n",
              "  <style>\n",
              "    .colab-df-container {\n",
              "      display:flex;\n",
              "      flex-wrap:wrap;\n",
              "      gap: 12px;\n",
              "    }\n",
              "\n",
              "    .colab-df-convert {\n",
              "      background-color: #E8F0FE;\n",
              "      border: none;\n",
              "      border-radius: 50%;\n",
              "      cursor: pointer;\n",
              "      display: none;\n",
              "      fill: #1967D2;\n",
              "      height: 32px;\n",
              "      padding: 0 0 0 0;\n",
              "      width: 32px;\n",
              "    }\n",
              "\n",
              "    .colab-df-convert:hover {\n",
              "      background-color: #E2EBFA;\n",
              "      box-shadow: 0px 1px 2px rgba(60, 64, 67, 0.3), 0px 1px 3px 1px rgba(60, 64, 67, 0.15);\n",
              "      fill: #174EA6;\n",
              "    }\n",
              "\n",
              "    [theme=dark] .colab-df-convert {\n",
              "      background-color: #3B4455;\n",
              "      fill: #D2E3FC;\n",
              "    }\n",
              "\n",
              "    [theme=dark] .colab-df-convert:hover {\n",
              "      background-color: #434B5C;\n",
              "      box-shadow: 0px 1px 3px 1px rgba(0, 0, 0, 0.15);\n",
              "      filter: drop-shadow(0px 1px 2px rgba(0, 0, 0, 0.3));\n",
              "      fill: #FFFFFF;\n",
              "    }\n",
              "  </style>\n",
              "\n",
              "      <script>\n",
              "        const buttonEl =\n",
              "          document.querySelector('#df-879a4ad4-a063-43d4-a86e-5c078b2bc977 button.colab-df-convert');\n",
              "        buttonEl.style.display =\n",
              "          google.colab.kernel.accessAllowed ? 'block' : 'none';\n",
              "\n",
              "        async function convertToInteractive(key) {\n",
              "          const element = document.querySelector('#df-879a4ad4-a063-43d4-a86e-5c078b2bc977');\n",
              "          const dataTable =\n",
              "            await google.colab.kernel.invokeFunction('convertToInteractive',\n",
              "                                                     [key], {});\n",
              "          if (!dataTable) return;\n",
              "\n",
              "          const docLinkHtml = 'Like what you see? Visit the ' +\n",
              "            '<a target=\"_blank\" href=https://colab.research.google.com/notebooks/data_table.ipynb>data table notebook</a>'\n",
              "            + ' to learn more about interactive tables.';\n",
              "          element.innerHTML = '';\n",
              "          dataTable['output_type'] = 'display_data';\n",
              "          await google.colab.output.renderOutput(dataTable, element);\n",
              "          const docLink = document.createElement('div');\n",
              "          docLink.innerHTML = docLinkHtml;\n",
              "          element.appendChild(docLink);\n",
              "        }\n",
              "      </script>\n",
              "    </div>\n",
              "  </div>\n",
              "  "
            ],
            "text/plain": [
              "   tr_type  amount_x   amount_y\n",
              "0   4110.0   2245.92    2245.92\n",
              "1   2370.0   2335.75  113194.15\n",
              "2   2110.0  22459.16  112295.79\n",
              "3   1010.0  24839.83   28803.87\n",
              "4   2010.0  44918.32   89836.63"
            ]
          },
          "metadata": {},
          "execution_count": 110
        }
      ]
    },
    {
      "cell_type": "markdown",
      "metadata": {
        "id": "W-LaVwRdR3UB"
      },
      "source": [
        "## Задание 7"
      ]
    },
    {
      "cell_type": "markdown",
      "metadata": {
        "id": "rhI4NOciR7e0"
      },
      "source": [
        "1. Найдите суммы затрат по каждой категории (mcc) для мужчин и для женщин. \n",
        "2. Найдите топ 10 категорий с самыми большими относительными модулями разности в тратах для разных полов (в ответе должны присутствовать описания mcc кодов)."
      ]
    },
    {
      "cell_type": "markdown",
      "metadata": {
        "id": "aGaPkQkVSvl8"
      },
      "source": [
        "## Задание 8"
      ]
    },
    {
      "cell_type": "markdown",
      "metadata": {
        "id": "T7Ox1qAXTHQl"
      },
      "source": [
        "1. Из поля tr_datetime выделите час tr_hour, в который произошла транзакция, как первые 2 цифры до \":\". (\\**)\n",
        "2. Посчитайте количество транзакций с amount<0 в ночное время для мужчин и женщин. Ночное время - это примерно 00-06 часов. "
      ]
    }
  ]
}