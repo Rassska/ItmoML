{
  "nbformat": 4,
  "nbformat_minor": 0,
  "metadata": {
    "hide_input": false,
    "kernelspec": {
      "display_name": "Python 3",
      "language": "python",
      "name": "python3"
    },
    "language_info": {
      "codemirror_mode": {
        "name": "ipython",
        "version": 3
      },
      "file_extension": ".py",
      "mimetype": "text/x-python",
      "name": "python",
      "nbconvert_exporter": "python",
      "pygments_lexer": "ipython3",
      "version": "3.7.1"
    },
    "toc": {
      "base_numbering": 1,
      "nav_menu": {},
      "number_sections": true,
      "sideBar": true,
      "skip_h1_title": false,
      "title_cell": "Table of Contents",
      "title_sidebar": "Contents",
      "toc_cell": true,
      "toc_position": {},
      "toc_section_display": true,
      "toc_window_display": false
    },
    "varInspector": {
      "cols": {
        "lenName": 16,
        "lenType": 16,
        "lenVar": 40
      },
      "kernels_config": {
        "python": {
          "delete_cmd_postfix": "",
          "delete_cmd_prefix": "del ",
          "library": "var_list.py",
          "varRefreshCmd": "print(var_dic_list())"
        },
        "r": {
          "delete_cmd_postfix": ") ",
          "delete_cmd_prefix": "rm(",
          "library": "var_list.r",
          "varRefreshCmd": "cat(var_dic_list()) "
        }
      },
      "types_to_exclude": [
        "module",
        "function",
        "builtin_function_or_method",
        "instance",
        "_Feature"
      ],
      "window_display": false
    },
    "colab": {
      "name": "lab2.ipynb",
      "provenance": []
    }
  },
  "cells": [
    {
      "cell_type": "markdown",
      "metadata": {
        "id": "xjvL0IIG8Jd0"
      },
      "source": [
        "## Задание 0\n"
      ]
    },
    {
      "cell_type": "markdown",
      "metadata": {
        "id": "yaSxXHvxO0qo"
      },
      "source": [
        "Для всех  заданий будем использовать обезличенные транзакционные банковские данные. Для этого считайте в переменные **tr_mcc_codes, tr_types, transactions и gender_train** из одноимённых таблиц из папки [data](https://drive.google.com/drive/folders/1YAMe7MiTxA-RSSd8Ex2p-L0Dspe6Gs4L). \n",
        "\n",
        "Для таблицы transactions используйте только первые n=1000000 строк. При чтении файлов обратите внимание на разделители внутри каждого из файлов - они могут различаться!"
      ]
    },
    {
      "cell_type": "code",
      "metadata": {
        "id": "AbDsE0Yfl0KZ"
      },
      "source": [
        "import pandas as pd\n",
        "import numpy as np\n",
        "import math as math\n",
        "\n",
        "from google.colab import drive \n",
        "drive.mount('/content/drive')"
      ],
      "execution_count": 219,
      "outputs": []
    },
    {
      "cell_type": "code",
      "metadata": {
        "id": "jGpTNsTBXEF6"
      },
      "source": [
        "tr_mcc_codes_path = '/content/drive/MyDrive/Data/tr_mcc_codes.csv'\n",
        "tr_types_path = '/content/drive/MyDrive/Data/tr_types.csv'\n",
        "gender_train_path = '/content/drive/MyDrive/Data/gender_train.csv'\n",
        "transaction_path = '/content/drive/MyDrive/Data/transactions.csv'\n",
        "\n",
        "tr_mcc_codes_df = pd.read_csv(tr_mcc_codes_path, sep = ';')\n",
        "tr_types_df = pd.read_csv(tr_types_path, sep = \";\")\n",
        "gender_train_df = pd.read_csv(gender_train_path, sep = \",\")\n",
        "transaction_reader = pd.read_csv(transaction_path, sep = \",\", iterator=True, chunksize=1000000)\n",
        "transaction_df = transaction_reader.get_chunk(1000000)\n"
      ],
      "execution_count": 333,
      "outputs": []
    },
    {
      "cell_type": "markdown",
      "metadata": {
        "id": "oP3lX9xC8Jd8"
      },
      "source": [
        "###  Описание данных\n",
        "#### Таблица ```transactions.csv```\n",
        "##### Описание\n",
        "Таблица содержит историю транзакций клиентов банка за один год и три месяца.\n",
        "\n",
        "##### Формат данных\n",
        "\n",
        "```\n",
        "customer_id,tr_datetime,mcc_code,tr_type,amount,term_id\n",
        "111111,15 01:40:52,1111,1000,-5224,111111\n",
        "111112,15 15:18:32,3333,2000,-100,11122233\n",
        "...\n",
        "```\n",
        "##### Описание полей\n",
        "\n",
        " - ```customer_id``` — идентификатор клиента;\n",
        " - ```tr_datetime``` — день и время совершения транзакции (дни нумеруются с начала данных);\n",
        " - ```mcc_code``` — mcc-код транзакции;\n",
        " - ```tr_type``` — тип транзакции;\n",
        " - ```amount``` — сумма транзакции в условных единицах со знаком; ```+``` — начисление средств клиенту (приходная транзакция), ```-``` — списание средств (расходная транзакция);\n",
        " - ```term_id``` — идентификатор терминала;\n",
        "\n",
        "\n",
        "#### Таблица ```gender_train.csv```\n",
        "\n",
        "##### Описание\n",
        "Данная таблица содержит информацию по полу для части клиентов, для которых он известен. Для остальных клиентов пол неизвестен.\n",
        "\n",
        "##### Формат данных\n",
        "```\n",
        "customer_id,gender\n",
        "111111,0\n",
        "111112,1\n",
        "...\n",
        "```\n",
        "\n",
        "##### Описание полей\n",
        " - ```customer_id``` — идентификатор клиента;\n",
        " - ```gender``` — пол клиента;\n",
        "\n",
        "### Таблица ```tr_mcc_codes.csv```\n",
        "\n",
        "##### Описание\n",
        "Данная таблица содержит описание mcc-кодов транзакций.\n",
        "\n",
        "##### Формат данных\n",
        "```\n",
        "mcc_code;mcc_description\n",
        "1000;словесное описание mcc-кода 1000\n",
        "2000;словесное описание mcc-кода 2000\n",
        "...\n",
        "```\n",
        "\n",
        "##### Описание полей\n",
        " - ```mcc_code``` – mcc-код транзакции;\n",
        " - ```mcc_description``` — описание mcc-кода транзакции.\n",
        "\n",
        "#### Таблица ```tr_types.csv```\n",
        "\n",
        "##### Описание\n",
        "Данная таблица содержит описание типов транзакций.\n",
        "\n",
        "##### Формат данных\n",
        "```\n",
        "tr_type;tr_description\n",
        "1000;словесное описание типа транзакции 1000\n",
        "2000;словесное описание типа транзакции 2000\n",
        "...\n",
        "```\n",
        "\n",
        "##### Описание полей\n",
        " - ```tr_type``` – тип транзакции;\n",
        " - ```tr_description``` — описание типа транзакции;"
      ]
    },
    {
      "cell_type": "markdown",
      "metadata": {
        "id": "04CYsBKz8JeB"
      },
      "source": [
        "\n",
        "Задания 1-4 делаются без использования merge!\n",
        "\n",
        "## Задание 1\n",
        "\n"
      ]
    },
    {
      "cell_type": "markdown",
      "metadata": {
        "id": "1hcrfwsYN_Yz"
      },
      "source": [
        "1. Для столбца tr_type датафрейма transactions выберите произвольные 1000 строк с помощью метода sample\n",
        "2. В полученной на предыдущем этапе подвыборке найдите долю транзакций (стобец tr_description в датасете tr_types), в которой содержится подстрока 'POS' или 'ATM'\n"
      ]
    },
    {
      "cell_type": "code",
      "metadata": {
        "colab": {
          "base_uri": "https://localhost:8080/"
        },
        "id": "vQ7v_Nl4qftN",
        "outputId": "e1709881-2d1b-4b81-cad6-11f07e8aac60"
      },
      "source": [
        "randomTransactions = transaction_df['tr_type'].sample(n = 1000)\n",
        "type(randomTransactions)\n",
        "cntPOSorATM = 0\n",
        "\n",
        "for index, value in randomTransactions.items():\n",
        "  if tr_types_df.query(\"tr_type=={}\".format(value))['tr_description'].str.contains(\"ATM|POS\").all():\n",
        "    cntPOSorATM += 1\n",
        "\n",
        "print(cntPOSorATM / 1000)\n",
        "\n",
        "\n"
      ],
      "execution_count": 295,
      "outputs": [
        {
          "output_type": "stream",
          "name": "stdout",
          "text": [
            "0.368\n"
          ]
        }
      ]
    },
    {
      "cell_type": "markdown",
      "metadata": {
        "id": "fiZBDIZt8JeS"
      },
      "source": [
        "## Задание 2 \n"
      ]
    },
    {
      "cell_type": "markdown",
      "metadata": {
        "id": "FFKeBUThOCrz"
      },
      "source": [
        "1. Для столбца tr_type датафрейма transactions посчитайте частоту встречаемости всех типов транзакций tr_type в transactions.\n",
        "2. Выведите топ-10 транзакций по частоте встречаемости (вывести для них tr_description тоже)."
      ]
    },
    {
      "cell_type": "code",
      "metadata": {
        "colab": {
          "base_uri": "https://localhost:8080/"
        },
        "id": "qAmb8k1LaWhf",
        "outputId": "2d4a694f-93cd-4b2b-b334-b225bc839e2e"
      },
      "source": [
        "frequency = transaction_df['tr_type'].value_counts().to_dict()\n",
        "top10 = {}\n",
        "top = 10\n",
        "\n",
        "for key in frequency:\n",
        "  if top > 0:\n",
        "    top10[key] = frequency[key]\n",
        "    print(key, ' ', tr_types_df.query(\"tr_type=={}\".format(key))['tr_description'])\n",
        "    top -= 1\n"
      ],
      "execution_count": 318,
      "outputs": [
        {
          "output_type": "stream",
          "name": "stdout",
          "text": [
            "1010   98    Покупка. POS ТУ СБ РФ\n",
            "Name: tr_description, dtype: object\n",
            "1110   101    Покупка. POS ТУ Россия\n",
            "Name: tr_description, dtype: object\n",
            "2010   106    Выдача наличных в АТМ Сбербанк России\n",
            "Name: tr_description, dtype: object\n",
            "1030   99    Оплата услуги. Банкоматы СБ РФ\n",
            "Name: tr_description, dtype: object\n",
            "2370   129    Списание с карты на карту по операции <перевод...\n",
            "Name: tr_description, dtype: object\n",
            "7070   59    Перевод на карту (с карты) через Мобильный бан...\n",
            "Name: tr_description, dtype: object\n",
            "7010   39    Взнос наличных через АТМ (в своем тер.банке)\n",
            "Name: tr_description, dtype: object\n",
            "1100   100    Покупка. ТУ  Россия\n",
            "Name: tr_description, dtype: object\n",
            "1210   103    Покупка. POS  Зарубеж. ТУ\n",
            "Name: tr_description, dtype: object\n",
            "1200   102    Покупка. Зарубеж. ТУ\n",
            "Name: tr_description, dtype: object\n"
          ]
        }
      ]
    },
    {
      "cell_type": "markdown",
      "metadata": {
        "id": "gnNPfqcGaRTI"
      },
      "source": [
        ""
      ]
    },
    {
      "cell_type": "markdown",
      "metadata": {
        "id": "mktm_JeA8JeX"
      },
      "source": [
        "## Задание 3\n",
        "1. В датафрейме transactions найдите клиента с максимальной суммой приходов на карту\n",
        "2. В датафрейме transactions найдите клиента с максимальной суммой расходов по карте\n",
        "3. Найдите модуль разницы для этих клиентов между суммой расходов и суммой приходов"
      ]
    },
    {
      "cell_type": "code",
      "metadata": {
        "colab": {
          "base_uri": "https://localhost:8080/"
        },
        "id": "v-5I3j-vtoVE",
        "outputId": "132d8703-15d3-4f9c-eb4c-d1b0ef08f00f"
      },
      "source": [
        "max_value = transaction_df[\"amount\"].max()\n",
        "min_value = transaction_df[\"amount\"].min()\n",
        "# print(max_value, min_value)\n",
        "\n",
        "max_amount_customer_id = transaction_df.query(\"amount=={}\".format(max_value))['customer_id'].unique()\n",
        "min_amount_customer_id = transaction_df.query(\"amount=={}\".format(min_value))['customer_id'].unique()\n",
        "\n",
        "print(max_amount_customer_id, min_amount_customer_id)\n",
        "\n",
        "diff = max_value - min_value\n",
        "print(diff * ((diff > 0) - (diff < 0)))"
      ],
      "execution_count": 324,
      "outputs": [
        {
          "output_type": "stream",
          "name": "stdout",
          "text": [
            "[19950741] [19950741]\n",
            "269509892.62\n"
          ]
        }
      ]
    },
    {
      "cell_type": "markdown",
      "metadata": {
        "id": "BYrJ5b_E8Jee"
      },
      "source": [
        "## Задание 4\n",
        "1. Найдите среднее арифметическое и медиану по amount по всем типам транзакций из топ 10 из задания 2\n",
        "1. Найдите среднее арифметическое и медиану по amount по всем типам транзакций для клиентов из задания 3"
      ]
    },
    {
      "cell_type": "code",
      "metadata": {
        "colab": {
          "base_uri": "https://localhost:8080/"
        },
        "id": "JbVSI7w-yOU4",
        "outputId": "161c4a69-6cfc-4abb-fbce-eaeda13b8f81"
      },
      "source": [
        "sumForTop10FrequentTransactions = 0\n",
        "medianForTop10FrequentTransactions = 0\n",
        "cnt = -1\n",
        "\n",
        "for key in top10:\n",
        "  cnt += 1\n",
        "  if (cnt == 4): medianForTop10FrequentTransactions += transaction_df.query(\"tr_type=={}\".format(key))['amount'].sum()\n",
        "  if (cnt == 5): \n",
        "    medianForTop10FrequentTransactions += transaction_df.query(\"tr_type=={}\".format(key))['amount'].sum()\n",
        "    medianForTop10FrequentTransactions /= 2\n",
        "\n",
        "  sumForTop10FrequentTransactions += transaction_df.query(\"tr_type=={}\".format(key))['amount'].mean()\n",
        "\n",
        "averageForTop10FrequentTransactions = sumForTop10FrequentTransactions / 10;\n",
        "#4.1\n",
        "print(averageForTop10FrequentTransactions, medianForTop10FrequentTransactions)\n",
        "\n",
        "averageForClientWithMaxAmount = transaction_df.query(\"customer_id=={}\".format(max_amount_customer_id))['amount'].mean()\n",
        "averageForClientWithMinAmount = transaction_df.query(\"customer_id=={}\".format(min_amount_customer_id))['amount'].mean()\n",
        "\n",
        "medianForClientWithMaxAmount = transaction_df.query(\"customer_id=={}\".format(max_amount_customer_id))['amount'].median()\n",
        "medianForClientWithMinAmount = transaction_df.query(\"customer_id=={}\".format(min_amount_customer_id))['amount'].median()\n",
        "\n",
        "#4.2\n",
        "print(averageForClientWithMaxAmount, averageForClientWithMinAmount, medianForClientWithMaxAmount, medianForClientWithMinAmount)\n"
      ],
      "execution_count": 329,
      "outputs": [
        {
          "output_type": "stream",
          "name": "stdout",
          "text": [
            "745.2899996035634 -346209342.345\n",
            "-320771.81621436717 -320771.81621436717 -33600.024999999994 -33600.024999999994\n"
          ]
        }
      ]
    },
    {
      "cell_type": "markdown",
      "metadata": {
        "id": "BYXwM4l3QDBu"
      },
      "source": [
        "## Подготовка для заданий 5-8"
      ]
    },
    {
      "cell_type": "markdown",
      "metadata": {
        "id": "XWQzFeKcQHRe"
      },
      "source": [
        "*Из заданий 5-8 нужно выполнить минимум два любых*\n",
        "\n",
        "Соедините transactions с всеми остальными таблицами (tr_mcc_codes, tr_types, gender_train). Причём с gender_train необходимо смёрджиться с помощью left join, а с оставшимися датафреймами - через inner.\n",
        "После получения результата таблицы gender_train, tr_types, tr_mcc_codes можно удалить. В результате соединения датафреймов должно получиться 999584 строки."
      ]
    },
    {
      "cell_type": "code",
      "metadata": {
        "id": "sndJxjJ7QQf5",
        "colab": {
          "base_uri": "https://localhost:8080/"
        },
        "outputId": "e194ed10-4f8d-4b0e-cd9f-77ba2bfb260c"
      },
      "source": [
        "transaction_df = pd.merge(transaction_df, gender_train_df, how='left')\n",
        "transaction_df = pd.merge(transaction_df, tr_mcc_codes_df, how='inner')\n",
        "transaction_df = pd.merge(transaction_df, tr_types_df, how='inner')\n",
        "transaction_df.shape"
      ],
      "execution_count": 339,
      "outputs": [
        {
          "output_type": "execute_result",
          "data": {
            "text/plain": [
              "(999584, 9)"
            ]
          },
          "metadata": {},
          "execution_count": 339
        }
      ]
    },
    {
      "cell_type": "markdown",
      "metadata": {
        "id": "8vrFauJ8QgmT"
      },
      "source": [
        "## Задание 5"
      ]
    },
    {
      "cell_type": "markdown",
      "metadata": {
        "id": "rOjEQ5xyQfE_"
      },
      "source": [
        "1. Определите модуль разницы между средними тратами женщин и мужчин (трата - отрицательное значение amount).\n",
        "2. Определите модуль разницы между средними поступлениями у мужчин и женщин\n",
        "\n",
        "Обратите внимание, что для вычисления модуля разности точных знаний о том, \n",
        "какой класc относится к мужчинам, а какой - к женщинам, не требуется."
      ]
    },
    {
      "cell_type": "code",
      "metadata": {
        "colab": {
          "base_uri": "https://localhost:8080/"
        },
        "id": "vB-QskNmPmQj",
        "outputId": "cb4fe191-03ad-4111-fc56-fed10d51f9d8"
      },
      "source": [
        "averageSpendingZeroGender = transaction_df.query('gender == 0 & amount < 0')['amount'].mean()\n",
        "averageSpendingNonZeroGender = transaction_df.query('gender != 0 & amount < 0')['amount'].mean()\n",
        "diffNegative = averageSpendingZeroGender - averageSpendingNonZeroGender\n",
        "#5.1\n",
        "print(diffNegative * ((diffNegative > 0) - (diffNegative < 0)))\n",
        "\n",
        "averageEarningZeroGender = transaction_df.query('gender == 0 & amount > 0')['amount'].mean()\n",
        "averageEarningNonZeroGender = transaction_df.query('gender != 0 & amount > 0')['amount'].mean()\n",
        "diffPositive = averageEarningZeroGender - averageEarningNonZeroGender\n",
        "#5.2\n",
        "print(diffPositive * ((diffPositive > 0) - (diffPositive < 0)))"
      ],
      "execution_count": 367,
      "outputs": [
        {
          "output_type": "stream",
          "name": "stdout",
          "text": [
            "16302.46190983049\n",
            "39073.70587002412\n"
          ]
        }
      ]
    },
    {
      "cell_type": "markdown",
      "metadata": {
        "id": "DSHFLbepQ7G1"
      },
      "source": [
        "## Задание 6"
      ]
    },
    {
      "cell_type": "markdown",
      "metadata": {
        "id": "2EF1490bQ-17"
      },
      "source": [
        "1. По всем типам транзакций рассчитайте максимальную сумму прихода на карту (из строго положительных сумм по столбцу amount) отдельно для мужчин и женщин (назовите ее \"max_income\"). Оставьте по 10 типов транзакций для мужчин и для женщин, наименьших среди всех типов транзакций по полученным значениям \"max_income\". \n",
        "2. Выделите среди них те типы транзакций, которые встречаются одновременно и у мужчин, и у женщин"
      ]
    },
    {
      "cell_type": "markdown",
      "metadata": {
        "id": "W-LaVwRdR3UB"
      },
      "source": [
        "## Задание 7"
      ]
    },
    {
      "cell_type": "markdown",
      "metadata": {
        "id": "rhI4NOciR7e0"
      },
      "source": [
        "1. Найдите суммы затрат по каждой категории (mcc) для мужчин и для женщин. \n",
        "2. Найдите топ 10 категорий с самыми большими относительными модулями разности в тратах для разных полов (в ответе должны присутствовать описания mcc кодов)."
      ]
    },
    {
      "cell_type": "markdown",
      "metadata": {
        "id": "aGaPkQkVSvl8"
      },
      "source": [
        "## Задание 8"
      ]
    },
    {
      "cell_type": "markdown",
      "metadata": {
        "id": "T7Ox1qAXTHQl"
      },
      "source": [
        "1. Из поля tr_datetime выделите час tr_hour, в который произошла транзакция, как первые 2 цифры до \":\". (\\**)\n",
        "2. Посчитайте количество транзакций с amount<0 в ночное время для мужчин и женщин. Ночное время - это примерно 00-06 часов. "
      ]
    }
  ]
}