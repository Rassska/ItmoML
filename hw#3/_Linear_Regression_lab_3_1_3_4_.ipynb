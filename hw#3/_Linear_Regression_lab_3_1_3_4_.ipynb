{
  "nbformat": 4,
  "nbformat_minor": 0,
  "metadata": {
    "colab": {
      "name": "\"Linear Regression lab 3.1-3.4\"",
      "provenance": [],
      "collapsed_sections": []
    },
    "kernelspec": {
      "display_name": "Python 3",
      "language": "python",
      "name": "python3"
    },
    "language_info": {
      "codemirror_mode": {
        "name": "ipython",
        "version": 3
      },
      "file_extension": ".py",
      "mimetype": "text/x-python",
      "name": "python",
      "nbconvert_exporter": "python",
      "pygments_lexer": "ipython3",
      "version": "3.7.4"
    }
  },
  "cells": [
    {
      "cell_type": "markdown",
      "metadata": {
        "id": "LkTpaRRWZNc3"
      },
      "source": [
        "# Линейная регрессия\n"
      ]
    },
    {
      "cell_type": "markdown",
      "metadata": {
        "id": "Ro-ttLpiZNdC"
      },
      "source": [
        "Линейные методы предполагают, что между признаками объекта и целевой переменной существует линейная зависимость, то есть:\n",
        "$$ \\hat{y} = w_1 x_1 + w_2 x_2 + ... + w_k x_k + b,$$\n",
        "где $\\hat{y}$ - целевая переменная (что мы хотим предсказать), $x_i$ - i-ый признак объекта $x$, $w_i$ - вес $i$-го признака, $b$ - bias (смещение, свободный член).\n",
        "\n",
        "В задаче линейной регрессии $\\hat{y}$ - это действительное число.\n",
        "\n",
        "Часто для упрощения записи вводят дополнительный фиктивный признак $x_0$, который всегда равен 1, тогда bias - вес этого признака. В этом случае формула может быть записана как скалярное произведение:\n",
        "$$ \\hat{y} = <w, x> $$\n",
        "\n",
        "В матричной форме формулу можно переписать следующим образом:\n",
        "$$ \\hat{y} = Xw,$$\n",
        "$\\hat{y}$ - вектор значений целевой переменной размера $n$, $X$ - матрица значений признаков объектов размера $n \\times k$, w - вектор весов размера $k$. То есть в наших данных имеется $n$ объектов, каждый их которых описан $k$ признаками.\n",
        "\n",
        "Таким образом, в матричной форме модель задаётся следующим образом:\n",
        "$$ y = Xw + \\epsilon$$ \n",
        "\n",
        "Важно отметить, что параметрами этой модели являются веса $w$. Когда говорят об обучении какого-либо алгоритма машинного обучения, как правило, имеют в виду настройку весов, т.е. параметров модели.  "
      ]
    },
    {
      "cell_type": "markdown",
      "metadata": {
        "id": "ixnX1G4yDVcG"
      },
      "source": [
        "На практике $\\hat{y} $ может отличается от реальных значений, которые принимает целевая переменная $y$. Разницу между реальным значением и предсказанным, обозначим как $\\epsilon$ - вектор значений случайной переменной, соответствующая случайной, непрогнозируемой ошибке модели. Ограничения, которые накладываются на эту модель:\n",
        "* математическое ожидание случайных ошибок $\\epsilon$ равно нулю,\n",
        "* дисперсия случайных ошибок одинакова и конечна,\n",
        "* случайные ошибки не скоррелированы."
      ]
    },
    {
      "cell_type": "markdown",
      "metadata": {
        "id": "HJyN9MkMDTod"
      },
      "source": [
        "Один из способов вычислить значения параметров модели, давно знаком - это наименьших квадратов, который минимизирует среднеквадратичную ошибку между реальным значением зависимой переменной и прогнозом, выданным моделью. Решение по методу наименьших квадратов дает:\n",
        "$$ w = (X^TX)^{-1}X^TY $$"
      ]
    },
    {
      "cell_type": "markdown",
      "metadata": {
        "id": "Y5HVNycSZNc5"
      },
      "source": [
        "Загрузим необходимые библиотеки"
      ]
    },
    {
      "cell_type": "code",
      "metadata": {
        "id": "Lrhz2sFvZNc7"
      },
      "source": [
        "import numpy as np\n",
        "import pandas as pd\n",
        "from matplotlib import pyplot as plt\n",
        "plt.style.use('ggplot')\n",
        "%matplotlib inline"
      ],
      "execution_count": null,
      "outputs": []
    },
    {
      "cell_type": "markdown",
      "metadata": {
        "id": "dFQqRj1lZNdg"
      },
      "source": [
        "## Оценка результатов\n",
        "\n",
        "Чтобы оценить качество работы алгоритма нам необходимо применяют разные метрики. Наиболее частые метрики средневадратичная и средняя абсолютная ошибки. Вычислим эти метрики на обучающей и на тестовой выборках. \n",
        "\n",
        " * *mean_absolute_error* - средняя абсолютная ошибка $|y_i - \\hat{y}_i|$\n",
        " * *mean_squared_error* - средняя квадратичная ошибка $(y_i - \\hat{y}_i)^2$"
      ]
    },
    {
      "cell_type": "markdown",
      "metadata": {
        "id": "2sEDF-oXRsVw"
      },
      "source": [
        "## Задание 3.1"
      ]
    },
    {
      "cell_type": "markdown",
      "metadata": {
        "id": "aStEfJYSZNdE"
      },
      "source": [
        "Пример 1. Сгенерируем искусственные данные. Сначала поработаем с простейшим одномерным случаем, когда у нас значение $y$ будет зависеть только от одного значения $x$.\n",
        "\n",
        "\n"
      ]
    },
    {
      "cell_type": "code",
      "metadata": {
        "id": "d3tzSTkrZNdF"
      },
      "source": [
        "def generate_data(n_points=20):\n",
        "  \"\"\"\n",
        "    Принимает на вход n_points точек \n",
        "    Возвращает данные для обучения и теста\n",
        "  \"\"\"\n",
        "  X = np.linspace(-5, 5, n_points)\n",
        "  y = 10 * X - 7\n",
        "\n",
        "  X_train = X[0::2].reshape(-1, 1)\n",
        "  y_train = y[0::2] + np.random.randn(int(n_points/2)) * 10\n",
        "\n",
        "\n",
        "  X_test = X[1::2].reshape(-1, 1)\n",
        "  y_test = y[1::2] + np.random.randn(int(n_points/2)) * 10\n",
        "\n",
        "  print(f'Generated {len(X_train)} train samples and {len(X_test)} test samples')\n",
        "  return X, X_train, y_train, X_test, y_test\n",
        "\n",
        "  "
      ],
      "execution_count": null,
      "outputs": []
    },
    {
      "cell_type": "code",
      "metadata": {
        "id": "bnYHO2TjZNdJ",
        "colab": {
          "base_uri": "https://localhost:8080/"
        },
        "outputId": "aea1d7b8-f0a8-42f5-8331-005da74c8893"
      },
      "source": [
        "X, X_train, y_train, X_test, y_test = generate_data(100)"
      ],
      "execution_count": null,
      "outputs": [
        {
          "output_type": "stream",
          "name": "stdout",
          "text": [
            "Generated 50 train samples and 50 test samples\n"
          ]
        }
      ]
    },
    {
      "cell_type": "code",
      "source": [
        "plt.figure(figsize = (10, 5))\n",
        "plt.scatter(X_train, y_train, label = 'train')\n",
        "plt.scatter(X_test, y_test, label = 'test')\n",
        "plt.legend(loc = 'best')\n",
        "plt.show()"
      ],
      "metadata": {
        "colab": {
          "base_uri": "https://localhost:8080/",
          "height": 320
        },
        "id": "IS9UJcTk8rVX",
        "outputId": "f9e4f082-0f21-4f2d-f277-61d5990e5a94"
      },
      "execution_count": null,
      "outputs": [
        {
          "output_type": "display_data",
          "data": {
            "text/plain": [
              "<Figure size 720x360 with 1 Axes>"
            ],
            "image/png": "[encoded data removed]"
          },
          "metadata": {
            "needs_background": "light"
          }
        }
      ]
    },
    {
      "cell_type": "code",
      "metadata": {
        "id": "q0l76cbaKzYg"
      },
      "source": [
        "### Реализуйте настройку w и b с помощью рассмотренного выше метода наименьших квадратов.\n",
        "### Найдите значения метрик MSE и MAE. Сравните с результатами из sklearn"
      ],
      "execution_count": null,
      "outputs": []
    },
    {
      "cell_type": "markdown",
      "source": [
        "$$ w = (X^TX)^{-1}X^TY $$"
      ],
      "metadata": {
        "id": "sGZ-DvvS9azv"
      }
    },
    {
      "cell_type": "code",
      "source": [
        "temp_ones = np.ones((X_train.shape[0], 1))\n",
        "X_ = np.hstack((temp_ones, X_train))\n",
        "# print(X_)\n",
        "\n",
        "coef = ((np.linalg.inv(X_.T.dot(X_))).dot(X_.T)).dot(y_train)\n",
        "w = coef[1:]\n",
        "b = coef[0]\n",
        "\n",
        "print('Coefficients w and b respectively:\\n', w, b)"
      ],
      "metadata": {
        "colab": {
          "base_uri": "https://localhost:8080/"
        },
        "id": "BKRgmYZJ9TuR",
        "outputId": "87a12ac0-44b9-462d-8a85-cee1e7a8a907"
      },
      "execution_count": null,
      "outputs": [
        {
          "output_type": "stream",
          "name": "stdout",
          "text": [
            "Coefficients w and b respectively:\n",
            " [10.41434537] -5.008344145626501\n"
          ]
        }
      ]
    },
    {
      "cell_type": "code",
      "source": [
        "plt.figure(figsize=(10, 5))\n",
        "plt.scatter(X_train, y_train, label='train')\n",
        "plt.scatter(X_test, y_test, label='test')\n",
        "plt.plot(X[1::2], X[1::2].reshape(-1, 1).dot(w) + b, label='predicted', color = \"BLACK\")\n",
        "plt.legend()\n",
        "plt.show()"
      ],
      "metadata": {
        "colab": {
          "base_uri": "https://localhost:8080/",
          "height": 320
        },
        "id": "ASgKSUPm_IrX",
        "outputId": "700077f9-35a7-43df-8885-30e785ca3095"
      },
      "execution_count": null,
      "outputs": [
        {
          "output_type": "display_data",
          "data": {
            "text/plain": [
              "<Figure size 720x360 with 1 Axes>"
            ],
            "image/png": "[encoded data removed]"
          },
          "metadata": {
            "needs_background": "light"
          }
        }
      ]
    },
    {
      "cell_type": "code",
      "source": [
        "from sklearn.linear_model import LinearRegression\n",
        "model = LinearRegression()\n",
        "\n",
        "model.fit(X_train, y_train)\n",
        "\n",
        "w_sclearn = model.coef_\n",
        "b_sclearn = model.intercept_\n",
        "\n",
        "print('Coefficients w and b respecctively from Sclearn:\\n', w_sclearn, b_sclearn)"
      ],
      "metadata": {
        "colab": {
          "base_uri": "https://localhost:8080/"
        },
        "id": "aEoezSqz_0Ya",
        "outputId": "42a1a6b5-be37-47d0-fb3e-bcead08a0745"
      },
      "execution_count": null,
      "outputs": [
        {
          "output_type": "stream",
          "name": "stdout",
          "text": [
            "Coefficients w and b respecctively from Sclearn:\n",
            " [10.41434537] -5.008344145626506\n"
          ]
        }
      ]
    },
    {
      "cell_type": "markdown",
      "source": [
        " * *mean_absolute_error* - средняя абсолютная ошибка $|y_i - \\hat{y}_i|$\n",
        " * *mean_squared_error* - средняя квадратичная ошибка $(y_i - \\hat{y}_i)^2$"
      ],
      "metadata": {
        "id": "JmImWG_BBbpV"
      }
    },
    {
      "cell_type": "code",
      "source": [
        "y_train_pred = X_train@w + b\n",
        "y_test_pred = X_test@w + b\n",
        "\n",
        "custom_train_MAE = np.sum(np.abs(y_train - y_train_pred)) / len(y_train_pred)\n",
        "custom_test_MAE = np.sum(np.abs(y_test - y_test_pred)) / len(y_test_pred)\n",
        "\n",
        "print('Custom Train MAE and Test MAE respectively: \\n')\n",
        "print(custom_train_MAE, custom_test_MAE)\n"
      ],
      "metadata": {
        "id": "PyI3sPqsBTWO",
        "colab": {
          "base_uri": "https://localhost:8080/"
        },
        "outputId": "c099386e-cf19-4f7e-e386-6444ebd0221c"
      },
      "execution_count": null,
      "outputs": [
        {
          "output_type": "stream",
          "name": "stdout",
          "text": [
            "Custom Train MAE and Test MAE respectively: \n",
            "\n",
            "7.972748488960599 8.632195000497674\n"
          ]
        }
      ]
    },
    {
      "cell_type": "code",
      "source": [
        "custom_train_MSE = np.sum((y_train - y_train_pred) ** 2) / len(y_train_pred)\n",
        "custom_test_MSE = np.sum((y_test - y_test_pred) ** 2) / len(y_test_pred)\n",
        "\n",
        "print('Custom Train MSE and Test MSE respectively: \\n')\n",
        "print(custom_train_MSE, custom_test_MSE)"
      ],
      "metadata": {
        "colab": {
          "base_uri": "https://localhost:8080/"
        },
        "id": "3AcayTinQfwe",
        "outputId": "c4c1efab-4674-4007-8ef6-f37ee20fab9f"
      },
      "execution_count": null,
      "outputs": [
        {
          "output_type": "stream",
          "name": "stdout",
          "text": [
            "Custom Train MSE and Test MSE respectively: \n",
            "\n",
            "96.8983410212476 112.52395299251535\n"
          ]
        }
      ]
    },
    {
      "cell_type": "code",
      "source": [
        "from sklearn.metrics import mean_absolute_error, mean_squared_error\n",
        "\n",
        "print('Sklearn Train MAE: ', mean_absolute_error(y_train, y_train_pred))\n",
        "print('Sklearn Test MAE: ', mean_absolute_error(y_test, y_test_pred))\n",
        "print()\n",
        "print('Sklearn Train MSE: ', mean_squared_error(y_train, y_train_pred))\n",
        "print('Sklearn Test MSE: ', mean_squared_error(y_test, y_test_pred))"
      ],
      "metadata": {
        "colab": {
          "base_uri": "https://localhost:8080/"
        },
        "id": "D9LlAXTwODv6",
        "outputId": "b9a98d72-39c4-45fa-859d-844eddd52fa5"
      },
      "execution_count": null,
      "outputs": [
        {
          "output_type": "stream",
          "name": "stdout",
          "text": [
            "Sklearn Train MAE:  7.972748488960599\n",
            "Sklearn Test MAE:  8.632195000497674\n",
            "\n",
            "Sklearn Train MSE:  96.8983410212476\n",
            "Sklearn Test MSE:  112.52395299251535\n"
          ]
        }
      ]
    },
    {
      "cell_type": "markdown",
      "metadata": {
        "id": "luGJoQXHRzu7"
      },
      "source": [
        "## Задание 3.2"
      ]
    },
    {
      "cell_type": "markdown",
      "metadata": {
        "id": "KKKQZDzWMv-j"
      },
      "source": [
        "Пример 2. Не всегда в задаче регрессии в качестве решения выступает прямая, как в предыдущем случае. Рассмотрим ещё один пример, в котором у объектов всё ещё один признак. Но теперь мы будм брать случайную точку на синусоиде и добавлять к ней шум — таким образом получим целевую переменную, признаком в этом случае будет координата $x$."
      ]
    },
    {
      "cell_type": "code",
      "metadata": {
        "id": "aULennJThZxH",
        "colab": {
          "base_uri": "https://localhost:8080/",
          "height": 354
        },
        "outputId": "3da9d214-fd61-479d-9864-7597d0326e75"
      },
      "source": [
        "def generate_wave_set(n_support=1000, n_train=25, std=0.3):\n",
        "    data = {}\n",
        "    # выберем некоторое количество точек из промежутка от 0 до 2*pi\n",
        "    data['support'] = np.linspace(0, 2*np.pi, num=n_support)\n",
        "    # для каждой посчитаем значение sin(x) + 1\n",
        "    # это будет ground truth\n",
        "    data['values'] = np.sin(data['support']) + 1\n",
        "    # из support посемплируем некоторое количество точек с возвратом, это будут признаки\n",
        "    data['x_train'] = np.sort(np.random.choice(data['support'], size=n_train, replace=True))\n",
        "    # опять посчитаем sin(x) + 1 и добавим шум, получим целевую переменную\n",
        "    data['y_train'] = np.sin(data['x_train']) + 1 + np.random.normal(0, std, size=data['x_train'].shape[0])\n",
        "    return data\n",
        "\n",
        "data = generate_wave_set(1000, 250)\n",
        "\n",
        "plt.figure(figsize=(10, 5))\n",
        "margin = 0.3\n",
        "plt.plot(data['support'], data['values'], 'b--', alpha=0.5, label='manifold')\n",
        "plt.scatter(data['x_train'], data['y_train'], 40, 'g', 'o', alpha=0.8, label='data')\n",
        "plt.xlim(data['x_train'].min() - margin, data['x_train'].max() + margin)\n",
        "plt.ylim(data['y_train'].min() - margin, data['y_train'].max() + margin)\n",
        "plt.legend(loc='upper right')\n",
        "plt.title('True manifold and noised data')\n",
        "plt.xlabel('x')\n",
        "plt.ylabel('y')\n",
        "plt.show()"
      ],
      "execution_count": null,
      "outputs": [
        {
          "output_type": "display_data",
          "data": {
            "text/plain": [
              "<Figure size 720x360 with 1 Axes>"
            ],
            "image/png": "[encoded data removed]"
          },
          "metadata": {
            "needs_background": "light"
          }
        }
      ]
    },
    {
      "cell_type": "code",
      "metadata": {
        "id": "3CBnODv1QYn_"
      },
      "source": [
        "### попробуйте реализовать настройку w и b с помощью рассмотренного выше метода наименьших квадратов.\n",
        "### Найдите значения метрик MSE и MAE"
      ],
      "execution_count": null,
      "outputs": []
    },
    {
      "cell_type": "markdown",
      "metadata": {
        "id": "o9iBgsGVQyOD"
      },
      "source": [
        "Конечно, такое решение нас вряд ли может устроить. Нужно применить полинимиальную регрессию. Идея здесь такая. Каждый признак в исходную формулу может входить не только в первой степени, но и во второй, в третьей и так далее. То есть для случая, когда у нас только один признак:\n",
        "$$ \\hat{y} = w_1 x_1 + w_2 x_1^2 + ... + w_k x_1^k + b,$$ "
      ]
    },
    {
      "cell_type": "code",
      "source": [
        "X_train = data['x_train'].reshape(-1, 1)\n",
        "y_train = data['y_train']\n",
        "# print(X_train, y_train)\n",
        "\n",
        "temp_ones = np.ones((X_train.shape[0], 1))\n",
        "X_ = np.hstack((temp_ones, X_train))\n",
        "\n",
        "coef = ((np.linalg.inv(X_.T.dot(X_))).dot(X_.T)).dot(y_train)\n",
        "w = coef[1:]\n",
        "b = coef[0]\n",
        "\n",
        "print('Coefficients w, b respectively: \\n', w, b)"
      ],
      "metadata": {
        "colab": {
          "base_uri": "https://localhost:8080/"
        },
        "id": "8np4l-PNSxtw",
        "outputId": "8f6395f3-22a2-47d0-dbbc-83ee18122c0b"
      },
      "execution_count": null,
      "outputs": [
        {
          "output_type": "stream",
          "name": "stdout",
          "text": [
            "Coefficients w, b respectively: \n",
            " [-0.28060694] 1.8875220960915553\n"
          ]
        }
      ]
    },
    {
      "cell_type": "code",
      "source": [
        "plt.figure(figsize=(10, 5))\n",
        "margin = 0.3\n",
        "plt.plot(data['support'], data['values'], 'b--', alpha=0.5, label='manifold')\n",
        "plt.scatter(data['x_train'], data['y_train'], 40, 'g', 'o', alpha=0.8, label='data')\n",
        "plt.xlim(data['x_train'].min() - margin, data['x_train'].max() + margin)\n",
        "plt.ylim(data['y_train'].min() - margin, data['y_train'].max() + margin)\n",
        "plt.legend(loc='upper right')\n",
        "plt.title('True manifold and noised data')\n",
        "plt.xlabel('x')\n",
        "plt.ylabel('y')\n",
        "plt.plot(data['support'], data['support'].reshape(-1, 1).dot(w) + b, label='predicted')\n",
        "plt.show()"
      ],
      "metadata": {
        "colab": {
          "base_uri": "https://localhost:8080/",
          "height": 354
        },
        "id": "cwbKzyXyUAAf",
        "outputId": "fc04a286-8a8a-4257-dcdb-4c5481ddefc4"
      },
      "execution_count": null,
      "outputs": [
        {
          "output_type": "display_data",
          "data": {
            "text/plain": [
              "<Figure size 720x360 with 1 Axes>"
            ],
            "image/png": "[encoded data removed]"
          },
          "metadata": {
            "needs_background": "light"
          }
        }
      ]
    },
    {
      "cell_type": "code",
      "source": [
        "y_train_pred = X_train@w + b\n",
        "\n",
        "custom_train_MAE = np.sum(np.abs(y_train - y_train_pred)) / len(y_train_pred)\n",
        "custom_train_MSE = np.sum((y_train - y_train_pred) ** 2) / len(y_train_pred)\n",
        "\n",
        "print('Custom Train MAE: ', custom_train_MAE)\n",
        "print('Custom Train MSE: ', custom_train_MSE)\n",
        "\n",
        "print('Sklearn Train MAE: ', mean_absolute_error(y_train, y_train_pred))\n",
        "print('Sklearn Train MSE: ', mean_squared_error(y_train, y_train_pred))\n"
      ],
      "metadata": {
        "colab": {
          "base_uri": "https://localhost:8080/"
        },
        "id": "XZ3FLNwNUQcu",
        "outputId": "5199dd3d-15bb-4516-ba97-db740e182f35"
      },
      "execution_count": null,
      "outputs": [
        {
          "output_type": "stream",
          "name": "stdout",
          "text": [
            "Custom Train MAE:  0.46046352884677205\n",
            "Custom Train MSE:  0.29658249375268514\n",
            "Sklearn Train MAE:  0.46046352884677205\n",
            "Sklearn Train MSE:  0.29658249375268514\n"
          ]
        }
      ]
    },
    {
      "cell_type": "markdown",
      "metadata": {
        "id": "95m0fULWR4m5"
      },
      "source": [
        "## Задание 3.3"
      ]
    },
    {
      "cell_type": "code",
      "metadata": {
        "id": "eyzS3rlzSuDU",
        "colab": {
          "base_uri": "https://localhost:8080/",
          "height": 353
        },
        "outputId": "609d42d0-e132-48d1-d7bf-eb3c83f693a7"
      },
      "source": [
        "from sklearn.preprocessing import PolynomialFeatures\n",
        "from sklearn.pipeline import Pipeline\n",
        "from sklearn.model_selection import cross_val_score\n",
        "\n",
        "X = data['x_train']\n",
        "y = data['y_train']\n",
        "\n",
        "degrees = [1, 2, 3, 4, 5]\n",
        "plt.figure(figsize=(20, 5))\n",
        "for i in range(len(degrees)):\n",
        "  ax = plt.subplot(1, len(degrees), i + 1)\n",
        "  plt.setp(ax, xticks=(), yticks=())\n",
        "\n",
        "  polynomial_features = PolynomialFeatures(degree=degrees[i],\n",
        "                                             include_bias=False)\n",
        "  linear_regression = LinearRegression()\n",
        "  pipeline = Pipeline([(\"polynomial_features\", polynomial_features),\n",
        "                         (\"linear_regression\", linear_regression)])\n",
        "  pipeline.fit(X[:, np.newaxis], y)\n",
        "\n",
        "  # Evaluate the models using crossvalidation\n",
        "  scores = cross_val_score(pipeline, X[:, np.newaxis], y,\n",
        "                             scoring=\"neg_mean_squared_error\", cv=10)\n",
        "  X_test = np.linspace(0, 2*np.pi, 100)\n",
        "  plt.plot(X_test, pipeline.predict(X_test[:, np.newaxis]), label=\"Model\")\n",
        "  plt.plot(data['support'], data['values'], label=\"True function\")\n",
        "  plt.scatter(X, y, edgecolor='b', s=20, label=\"Samples\")\n",
        "  plt.xlabel(\"x\")\n",
        "  plt.ylabel(\"y\")\n",
        "  plt.xlim((0, 2*np.pi))\n",
        "  plt.ylim((-1, 3))\n",
        "  plt.legend(loc=\"best\")\n",
        "  plt.title(\"Degree {}\\nMSE = {:.2e}(+/- {:.2e})\".format(\n",
        "        degrees[i], -scores.mean(), scores.std()))\n",
        "plt.show()\n",
        "### Реализуйте полиномиальную регрессию. Сделайте визуализацию для полиномов разных степеней. \n",
        "### Полином какой степени подходит больше других? Почему?"
      ],
      "execution_count": null,
      "outputs": [
        {
          "output_type": "display_data",
          "data": {
            "text/plain": [
              "<Figure size 1440x360 with 5 Axes>"
            ],
            "image/png": "[encoded data removed]"
          },
          "metadata": {}
        }
      ]
    },
    {
      "cell_type": "markdown",
      "source": [
        "Полином третьей степени подходит больше всего так как обладает MSE (с учетом погрешности). На полиномах степеней 1, 2 модель недообучена, а на полиномах 4, 5 модель начинает переобучаться"
      ],
      "metadata": {
        "id": "jks5ArG_ZC6O"
      }
    },
    {
      "cell_type": "markdown",
      "metadata": {
        "id": "feMIFS82ZNdn"
      },
      "source": [
        "# Реальный датасет"
      ]
    },
    {
      "cell_type": "markdown",
      "metadata": {
        "id": "_NVLc80wZNdn"
      },
      "source": [
        "Возьмём реальный набор данных Boston из sklearn.datasets. Этот датасет описывает средние цены на недвижимость в районах Бостона в тысячах долларов.\n",
        "\n",
        "Примеры признаков объектов недвижимости: количество преступлений на душу населения, процент старых домов в районе, количество учеников на одного учителя и т.д. Обратите внимание на то, что данные уже оцифрованы там, где изначально признаки были качественными."
      ]
    },
    {
      "cell_type": "markdown",
      "metadata": {
        "id": "yMC-plFGZNdo"
      },
      "source": [
        "Загрузим датасет, выведем информацию"
      ]
    },
    {
      "cell_type": "code",
      "metadata": {
        "id": "ZN6sApHcZNdo"
      },
      "source": [
        "from sklearn.datasets import load_boston\n"
      ],
      "execution_count": null,
      "outputs": []
    },
    {
      "cell_type": "code",
      "metadata": {
        "id": "YBgnP7HcZNdq",
        "colab": {
          "base_uri": "https://localhost:8080/"
        },
        "outputId": "5ec3b7dd-617a-4159-cc73-102a14fa1e39"
      },
      "source": [
        "house_data = load_boston()"
      ],
      "execution_count": null,
      "outputs": [
        {
          "output_type": "stream",
          "name": "stderr",
          "text": [
            "/usr/local/lib/python3.7/dist-packages/sklearn/utils/deprecation.py:87: FutureWarning: Function load_boston is deprecated; `load_boston` is deprecated in 1.0 and will be removed in 1.2.\n",
            "\n",
            "    The Boston housing prices dataset has an ethical problem. You can refer to\n",
            "    the documentation of this function for further details.\n",
            "\n",
            "    The scikit-learn maintainers therefore strongly discourage the use of this\n",
            "    dataset unless the purpose of the code is to study and educate about\n",
            "    ethical issues in data science and machine learning.\n",
            "\n",
            "    In this special case, you can fetch the dataset from the original\n",
            "    source::\n",
            "\n",
            "        import pandas as pd\n",
            "        import numpy as np\n",
            "\n",
            "\n",
            "        data_url = \"http://lib.stat.cmu.edu/datasets/boston\"\n",
            "        raw_df = pd.read_csv(data_url, sep=\"\\s+\", skiprows=22, header=None)\n",
            "        data = np.hstack([raw_df.values[::2, :], raw_df.values[1::2, :2]])\n",
            "        target = raw_df.values[1::2, 2]\n",
            "\n",
            "    Alternative datasets include the California housing dataset (i.e.\n",
            "    :func:`~sklearn.datasets.fetch_california_housing`) and the Ames housing\n",
            "    dataset. You can load the datasets as follows::\n",
            "\n",
            "        from sklearn.datasets import fetch_california_housing\n",
            "        housing = fetch_california_housing()\n",
            "\n",
            "    for the California housing dataset and::\n",
            "\n",
            "        from sklearn.datasets import fetch_openml\n",
            "        housing = fetch_openml(name=\"house_prices\", as_frame=True)\n",
            "\n",
            "    for the Ames housing dataset.\n",
            "    \n",
            "  warnings.warn(msg, category=FutureWarning)\n"
          ]
        }
      ]
    },
    {
      "cell_type": "markdown",
      "metadata": {
        "id": "kjL3jxlqgHWs"
      },
      "source": [
        "## Задание 3.4"
      ]
    },
    {
      "cell_type": "code",
      "metadata": {
        "id": "PbTQGLKagJN5"
      },
      "source": [
        "### оставьте в наборе данных только 7 наиболее значимых признаков\n",
        "### настройте параметры линейной регрессии и сравните метрики качества (MSE и MAE) для полного датасета и усечённого"
      ],
      "execution_count": null,
      "outputs": []
    },
    {
      "cell_type": "code",
      "source": [
        "from sklearn.model_selection import train_test_split\n",
        "from sklearn.preprocessing import StandardScaler"
      ],
      "metadata": {
        "id": "CIl_d5DiadoD"
      },
      "execution_count": null,
      "outputs": []
    },
    {
      "cell_type": "code",
      "source": [
        "X = pd.DataFrame(house_data['data'], columns=house_data['feature_names'])\n",
        "y = house_data['target']\n",
        "X"
      ],
      "metadata": {
        "colab": {
          "base_uri": "https://localhost:8080/",
          "height": 424
        },
        "id": "9D1QGsrmZ_Ns",
        "outputId": "93c19c83-c859-4746-ffb5-c0188de169fe"
      },
      "execution_count": null,
      "outputs": [
        {
          "output_type": "execute_result",
          "data": {
            "text/plain": [
              "        CRIM    ZN  INDUS  CHAS    NOX     RM   AGE     DIS  RAD    TAX  \\\n",
              "0    0.00632  18.0   2.31   0.0  0.538  6.575  65.2  4.0900  1.0  296.0   \n",
              "1    0.02731   0.0   7.07   0.0  0.469  6.421  78.9  4.9671  2.0  242.0   \n",
              "2    0.02729   0.0   7.07   0.0  0.469  7.185  61.1  4.9671  2.0  242.0   \n",
              "3    0.03237   0.0   2.18   0.0  0.458  6.998  45.8  6.0622  3.0  222.0   \n",
              "4    0.06905   0.0   2.18   0.0  0.458  7.147  54.2  6.0622  3.0  222.0   \n",
              "..       ...   ...    ...   ...    ...    ...   ...     ...  ...    ...   \n",
              "501  0.06263   0.0  11.93   0.0  0.573  6.593  69.1  2.4786  1.0  273.0   \n",
              "502  0.04527   0.0  11.93   0.0  0.573  6.120  76.7  2.2875  1.0  273.0   \n",
              "503  0.06076   0.0  11.93   0.0  0.573  6.976  91.0  2.1675  1.0  273.0   \n",
              "504  0.10959   0.0  11.93   0.0  0.573  6.794  89.3  2.3889  1.0  273.0   \n",
              "505  0.04741   0.0  11.93   0.0  0.573  6.030  80.8  2.5050  1.0  273.0   \n",
              "\n",
              "     PTRATIO       B  LSTAT  \n",
              "0       15.3  396.90   4.98  \n",
              "1       17.8  396.90   9.14  \n",
              "2       17.8  392.83   4.03  \n",
              "3       18.7  394.63   2.94  \n",
              "4       18.7  396.90   5.33  \n",
              "..       ...     ...    ...  \n",
              "501     21.0  391.99   9.67  \n",
              "502     21.0  396.90   9.08  \n",
              "503     21.0  396.90   5.64  \n",
              "504     21.0  393.45   6.48  \n",
              "505     21.0  396.90   7.88  \n",
              "\n",
              "[506 rows x 13 columns]"
            ],
            "text/html": [
              "\n",
              "  <div id=\"df-df73b5b5-e3bb-4357-8896-0ca4bd945530\">\n",
              "    <div class=\"colab-df-container\">\n",
              "      <div>\n",
              "<style scoped>\n",
              "    .dataframe tbody tr th:only-of-type {\n",
              "        vertical-align: middle;\n",
              "    }\n",
              "\n",
              "    .dataframe tbody tr th {\n",
              "        vertical-align: top;\n",
              "    }\n",
              "\n",
              "    .dataframe thead th {\n",
              "        text-align: right;\n",
              "    }\n",
              "</style>\n",
              "<table border=\"1\" class=\"dataframe\">\n",
              "  <thead>\n",
              "    <tr style=\"text-align: right;\">\n",
              "      <th></th>\n",
              "      <th>CRIM</th>\n",
              "      <th>ZN</th>\n",
              "      <th>INDUS</th>\n",
              "      <th>CHAS</th>\n",
              "      <th>NOX</th>\n",
              "      <th>RM</th>\n",
              "      <th>AGE</th>\n",
              "      <th>DIS</th>\n",
              "      <th>RAD</th>\n",
              "      <th>TAX</th>\n",
              "      <th>PTRATIO</th>\n",
              "      <th>B</th>\n",
              "      <th>LSTAT</th>\n",
              "    </tr>\n",
              "  </thead>\n",
              "  <tbody>\n",
              "    <tr>\n",
              "      <th>0</th>\n",
              "      <td>0.00632</td>\n",
              "      <td>18.0</td>\n",
              "      <td>2.31</td>\n",
              "      <td>0.0</td>\n",
              "      <td>0.538</td>\n",
              "      <td>6.575</td>\n",
              "      <td>65.2</td>\n",
              "      <td>4.0900</td>\n",
              "      <td>1.0</td>\n",
              "      <td>296.0</td>\n",
              "      <td>15.3</td>\n",
              "      <td>396.90</td>\n",
              "      <td>4.98</td>\n",
              "    </tr>\n",
              "    <tr>\n",
              "      <th>1</th>\n",
              "      <td>0.02731</td>\n",
              "      <td>0.0</td>\n",
              "      <td>7.07</td>\n",
              "      <td>0.0</td>\n",
              "      <td>0.469</td>\n",
              "      <td>6.421</td>\n",
              "      <td>78.9</td>\n",
              "      <td>4.9671</td>\n",
              "      <td>2.0</td>\n",
              "      <td>242.0</td>\n",
              "      <td>17.8</td>\n",
              "      <td>396.90</td>\n",
              "      <td>9.14</td>\n",
              "    </tr>\n",
              "    <tr>\n",
              "      <th>2</th>\n",
              "      <td>0.02729</td>\n",
              "      <td>0.0</td>\n",
              "      <td>7.07</td>\n",
              "      <td>0.0</td>\n",
              "      <td>0.469</td>\n",
              "      <td>7.185</td>\n",
              "      <td>61.1</td>\n",
              "      <td>4.9671</td>\n",
              "      <td>2.0</td>\n",
              "      <td>242.0</td>\n",
              "      <td>17.8</td>\n",
              "      <td>392.83</td>\n",
              "      <td>4.03</td>\n",
              "    </tr>\n",
              "    <tr>\n",
              "      <th>3</th>\n",
              "      <td>0.03237</td>\n",
              "      <td>0.0</td>\n",
              "      <td>2.18</td>\n",
              "      <td>0.0</td>\n",
              "      <td>0.458</td>\n",
              "      <td>6.998</td>\n",
              "      <td>45.8</td>\n",
              "      <td>6.0622</td>\n",
              "      <td>3.0</td>\n",
              "      <td>222.0</td>\n",
              "      <td>18.7</td>\n",
              "      <td>394.63</td>\n",
              "      <td>2.94</td>\n",
              "    </tr>\n",
              "    <tr>\n",
              "      <th>4</th>\n",
              "      <td>0.06905</td>\n",
              "      <td>0.0</td>\n",
              "      <td>2.18</td>\n",
              "      <td>0.0</td>\n",
              "      <td>0.458</td>\n",
              "      <td>7.147</td>\n",
              "      <td>54.2</td>\n",
              "      <td>6.0622</td>\n",
              "      <td>3.0</td>\n",
              "      <td>222.0</td>\n",
              "      <td>18.7</td>\n",
              "      <td>396.90</td>\n",
              "      <td>5.33</td>\n",
              "    </tr>\n",
              "    <tr>\n",
              "      <th>...</th>\n",
              "      <td>...</td>\n",
              "      <td>...</td>\n",
              "      <td>...</td>\n",
              "      <td>...</td>\n",
              "      <td>...</td>\n",
              "      <td>...</td>\n",
              "      <td>...</td>\n",
              "      <td>...</td>\n",
              "      <td>...</td>\n",
              "      <td>...</td>\n",
              "      <td>...</td>\n",
              "      <td>...</td>\n",
              "      <td>...</td>\n",
              "    </tr>\n",
              "    <tr>\n",
              "      <th>501</th>\n",
              "      <td>0.06263</td>\n",
              "      <td>0.0</td>\n",
              "      <td>11.93</td>\n",
              "      <td>0.0</td>\n",
              "      <td>0.573</td>\n",
              "      <td>6.593</td>\n",
              "      <td>69.1</td>\n",
              "      <td>2.4786</td>\n",
              "      <td>1.0</td>\n",
              "      <td>273.0</td>\n",
              "      <td>21.0</td>\n",
              "      <td>391.99</td>\n",
              "      <td>9.67</td>\n",
              "    </tr>\n",
              "    <tr>\n",
              "      <th>502</th>\n",
              "      <td>0.04527</td>\n",
              "      <td>0.0</td>\n",
              "      <td>11.93</td>\n",
              "      <td>0.0</td>\n",
              "      <td>0.573</td>\n",
              "      <td>6.120</td>\n",
              "      <td>76.7</td>\n",
              "      <td>2.2875</td>\n",
              "      <td>1.0</td>\n",
              "      <td>273.0</td>\n",
              "      <td>21.0</td>\n",
              "      <td>396.90</td>\n",
              "      <td>9.08</td>\n",
              "    </tr>\n",
              "    <tr>\n",
              "      <th>503</th>\n",
              "      <td>0.06076</td>\n",
              "      <td>0.0</td>\n",
              "      <td>11.93</td>\n",
              "      <td>0.0</td>\n",
              "      <td>0.573</td>\n",
              "      <td>6.976</td>\n",
              "      <td>91.0</td>\n",
              "      <td>2.1675</td>\n",
              "      <td>1.0</td>\n",
              "      <td>273.0</td>\n",
              "      <td>21.0</td>\n",
              "      <td>396.90</td>\n",
              "      <td>5.64</td>\n",
              "    </tr>\n",
              "    <tr>\n",
              "      <th>504</th>\n",
              "      <td>0.10959</td>\n",
              "      <td>0.0</td>\n",
              "      <td>11.93</td>\n",
              "      <td>0.0</td>\n",
              "      <td>0.573</td>\n",
              "      <td>6.794</td>\n",
              "      <td>89.3</td>\n",
              "      <td>2.3889</td>\n",
              "      <td>1.0</td>\n",
              "      <td>273.0</td>\n",
              "      <td>21.0</td>\n",
              "      <td>393.45</td>\n",
              "      <td>6.48</td>\n",
              "    </tr>\n",
              "    <tr>\n",
              "      <th>505</th>\n",
              "      <td>0.04741</td>\n",
              "      <td>0.0</td>\n",
              "      <td>11.93</td>\n",
              "      <td>0.0</td>\n",
              "      <td>0.573</td>\n",
              "      <td>6.030</td>\n",
              "      <td>80.8</td>\n",
              "      <td>2.5050</td>\n",
              "      <td>1.0</td>\n",
              "      <td>273.0</td>\n",
              "      <td>21.0</td>\n",
              "      <td>396.90</td>\n",
              "      <td>7.88</td>\n",
              "    </tr>\n",
              "  </tbody>\n",
              "</table>\n",
              "<p>506 rows × 13 columns</p>\n",
              "</div>\n",
              "      <button class=\"colab-df-convert\" onclick=\"convertToInteractive('df-df73b5b5-e3bb-4357-8896-0ca4bd945530')\"\n",
              "              title=\"Convert this dataframe to an interactive table.\"\n",
              "              style=\"display:none;\">\n",
              "        \n",
              "  <svg xmlns=\"http://www.w3.org/2000/svg\" height=\"24px\"viewBox=\"0 0 24 24\"\n",
              "       width=\"24px\">\n",
              "    <path d=\"M0 0h24v24H0V0z\" fill=\"none\"/>\n",
              "    <path d=\"M18.56 5.44l.94 2.06.94-2.06 2.06-.94-2.06-.94-.94-2.06-.94 2.06-2.06.94zm-11 1L8.5 8.5l.94-2.06 2.06-.94-2.06-.94L8.5 2.5l-.94 2.06-2.06.94zm10 10l.94 2.06.94-2.06 2.06-.94-2.06-.94-.94-2.06-.94 2.06-2.06.94z\"/><path d=\"M17.41 7.96l-1.37-1.37c-.4-.4-.92-.59-1.43-.59-.52 0-1.04.2-1.43.59L10.3 9.45l-7.72 7.72c-.78.78-.78 2.05 0 2.83L4 21.41c.39.39.9.59 1.41.59.51 0 1.02-.2 1.41-.59l7.78-7.78 2.81-2.81c.8-.78.8-2.07 0-2.86zM5.41 20L4 18.59l7.72-7.72 1.47 1.35L5.41 20z\"/>\n",
              "  </svg>\n",
              "      </button>\n",
              "      \n",
              "  <style>\n",
              "    .colab-df-container {\n",
              "      display:flex;\n",
              "      flex-wrap:wrap;\n",
              "      gap: 12px;\n",
              "    }\n",
              "\n",
              "    .colab-df-convert {\n",
              "      background-color: #E8F0FE;\n",
              "      border: none;\n",
              "      border-radius: 50%;\n",
              "      cursor: pointer;\n",
              "      display: none;\n",
              "      fill: #1967D2;\n",
              "      height: 32px;\n",
              "      padding: 0 0 0 0;\n",
              "      width: 32px;\n",
              "    }\n",
              "\n",
              "    .colab-df-convert:hover {\n",
              "      background-color: #E2EBFA;\n",
              "      box-shadow: 0px 1px 2px rgba(60, 64, 67, 0.3), 0px 1px 3px 1px rgba(60, 64, 67, 0.15);\n",
              "      fill: #174EA6;\n",
              "    }\n",
              "\n",
              "    [theme=dark] .colab-df-convert {\n",
              "      background-color: #3B4455;\n",
              "      fill: #D2E3FC;\n",
              "    }\n",
              "\n",
              "    [theme=dark] .colab-df-convert:hover {\n",
              "      background-color: #434B5C;\n",
              "      box-shadow: 0px 1px 3px 1px rgba(0, 0, 0, 0.15);\n",
              "      filter: drop-shadow(0px 1px 2px rgba(0, 0, 0, 0.3));\n",
              "      fill: #FFFFFF;\n",
              "    }\n",
              "  </style>\n",
              "\n",
              "      <script>\n",
              "        const buttonEl =\n",
              "          document.querySelector('#df-df73b5b5-e3bb-4357-8896-0ca4bd945530 button.colab-df-convert');\n",
              "        buttonEl.style.display =\n",
              "          google.colab.kernel.accessAllowed ? 'block' : 'none';\n",
              "\n",
              "        async function convertToInteractive(key) {\n",
              "          const element = document.querySelector('#df-df73b5b5-e3bb-4357-8896-0ca4bd945530');\n",
              "          const dataTable =\n",
              "            await google.colab.kernel.invokeFunction('convertToInteractive',\n",
              "                                                     [key], {});\n",
              "          if (!dataTable) return;\n",
              "\n",
              "          const docLinkHtml = 'Like what you see? Visit the ' +\n",
              "            '<a target=\"_blank\" href=https://colab.research.google.com/notebooks/data_table.ipynb>data table notebook</a>'\n",
              "            + ' to learn more about interactive tables.';\n",
              "          element.innerHTML = '';\n",
              "          dataTable['output_type'] = 'display_data';\n",
              "          await google.colab.output.renderOutput(dataTable, element);\n",
              "          const docLink = document.createElement('div');\n",
              "          docLink.innerHTML = docLinkHtml;\n",
              "          element.appendChild(docLink);\n",
              "        }\n",
              "      </script>\n",
              "    </div>\n",
              "  </div>\n",
              "  "
            ]
          },
          "metadata": {},
          "execution_count": 114
        }
      ]
    },
    {
      "cell_type": "code",
      "source": [
        "X_train, X_test, y_train, y_test = train_test_split(X, y, train_size=0.7)\n",
        "# Normalizing data for the whole dataset\n",
        "scaler = StandardScaler()\n",
        "X_train = scaler.fit_transform(X_train)\n",
        "X_test = scaler.transform(X_test)"
      ],
      "metadata": {
        "id": "J0SH0gpDcNpv"
      },
      "execution_count": null,
      "outputs": []
    },
    {
      "cell_type": "code",
      "source": [
        "model = LinearRegression()\n",
        "\n",
        "model.fit(X_train, y_train)\n",
        "\n",
        "y_train_pred = model.predict(X_train)\n",
        "y_test_pred = model.predict(X_test)"
      ],
      "metadata": {
        "id": "2TA-0i7uakG2"
      },
      "execution_count": null,
      "outputs": []
    },
    {
      "cell_type": "code",
      "source": [
        "importance = pd.DataFrame({'Attribute Name': X.columns, 'Importance': np.abs(model.coef_)})\n",
        "most_important = importance.sort_values(by='Importance', ascending=False)['Attribute Name'].head(7).to_list()\n",
        "\n",
        "print('Most important assets:', most_important)"
      ],
      "metadata": {
        "colab": {
          "base_uri": "https://localhost:8080/"
        },
        "id": "Jfi21Ac2bsiQ",
        "outputId": "2485a9b1-b279-418c-d991-3db4aed9ece7"
      },
      "execution_count": null,
      "outputs": [
        {
          "output_type": "stream",
          "name": "stdout",
          "text": [
            "Most important assets: ['LSTAT', 'DIS', 'RM', 'RAD', 'NOX', 'PTRATIO', 'TAX']\n"
          ]
        }
      ]
    },
    {
      "cell_type": "markdown",
      "source": [
        "Для полного датасета:"
      ],
      "metadata": {
        "id": "r5N-0ShUk4_l"
      }
    },
    {
      "cell_type": "code",
      "source": [
        "train_general_MSE = mean_squared_error(y_train, y_train_pred)\n",
        "test_general_MSE = mean_squared_error(y_test, y_test_pred)\n",
        "\n",
        "train_general_MAE = mean_absolute_error(y_train, y_train_pred)\n",
        "test_general_MAE = mean_absolute_error(y_test, y_test_pred)\n",
        "\n",
        "print('Train and Test MSE respectively: ', train_general_MSE, test_general_MSE)\n",
        "print('Train and Test MAE respectively: ', train_general_MAE, test_general_MAE, '\\n')\n",
        "\n",
        "print('Sklearn Train and Test MSE: ', mean_squared_error(y_train, y_train_pred), mean_squared_error(y_test, y_test_pred))\n",
        "print('Sklearn Train and Test MAE: ', mean_absolute_error(y_train, y_train_pred), mean_absolute_error(y_test, y_test_pred))\n"
      ],
      "metadata": {
        "colab": {
          "base_uri": "https://localhost:8080/"
        },
        "id": "9mV6IcdUk8jy",
        "outputId": "040a7ea9-2cc3-4adb-bc68-8cc0f07eaf94"
      },
      "execution_count": 131,
      "outputs": [
        {
          "output_type": "stream",
          "name": "stdout",
          "text": [
            "Train and Test MSE respectively:  23.245415326272692 26.092532715720285\n",
            "Train and Test MAE respectively:  3.439083101163313 3.602948163504375 \n",
            "\n",
            "Sklearn Train and Test MSE:  23.245415326272692 26.092532715720285\n",
            "Sklearn Train and Test MAE:  3.439083101163313 3.602948163504375\n"
          ]
        }
      ]
    },
    {
      "cell_type": "code",
      "source": [
        "X_train, X_test, y_train, y_test = train_test_split(X[most_important], y, train_size=0.7)\n",
        "\n",
        "# Normalizing data for truncated dataset\n",
        "scaler = StandardScaler()\n",
        "X_train = scaler.fit_transform(X_train)\n",
        "X_test = scaler.transform(X_test)\n",
        "\n",
        "model = LinearRegression()\n",
        "\n",
        "model.fit(X_train, y_train)\n",
        "\n",
        "y_train_pred = model.predict(X_train)\n",
        "y_test_pred = model.predict(X_test)"
      ],
      "metadata": {
        "id": "qiZj1QNnmSvo"
      },
      "execution_count": 134,
      "outputs": []
    },
    {
      "cell_type": "code",
      "source": [
        "train_general_MSE = mean_squared_error(y_train, y_train_pred)\n",
        "test_general_MSE = mean_squared_error(y_test, y_test_pred)\n",
        "\n",
        "train_general_MAE = mean_absolute_error(y_train, y_train_pred)\n",
        "test_general_MAE = mean_absolute_error(y_test, y_test_pred)\n",
        "\n",
        "print('Train and Test MSE respectively: ', train_general_MSE, test_general_MSE)\n",
        "print('Train and Test MAE respectively: ', train_general_MAE, test_general_MAE, '\\n')\n",
        "\n",
        "print('Sklearn Train and Test MSE: ', mean_squared_error(y_train, y_train_pred), mean_squared_error(y_test, y_test_pred))\n",
        "print('Sklearn Train and Test MAE: ', mean_absolute_error(y_train, y_train_pred), mean_absolute_error(y_test, y_test_pred))"
      ],
      "metadata": {
        "colab": {
          "base_uri": "https://localhost:8080/"
        },
        "id": "FPwLW_cWm8XW",
        "outputId": "cc97e6b8-692d-4029-d48e-9d0061325fe2"
      },
      "execution_count": 135,
      "outputs": [
        {
          "output_type": "stream",
          "name": "stdout",
          "text": [
            "Train and Test MSE respectively:  24.59359681430462 23.2193447080202\n",
            "Train and Test MAE respectively:  3.4732940485167676 3.4237536526169325 \n",
            "\n",
            "Sklearn Train and Test MSE:  24.59359681430462 23.2193447080202\n",
            "Sklearn Train and Test MAE:  3.4732940485167676 3.4237536526169325\n"
          ]
        }
      ]
    }
  ]
}