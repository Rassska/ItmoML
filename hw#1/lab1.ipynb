{
  "nbformat": 4,
  "nbformat_minor": 0,
  "metadata": {
    "colab": {
      "name": "lab1.ipynb",
      "provenance": [],
      "collapsed_sections": []
    },
    "kernelspec": {
      "display_name": "Python 3",
      "language": "python",
      "name": "python3"
    },
    "language_info": {
      "codemirror_mode": {
        "name": "ipython",
        "version": 3
      },
      "file_extension": ".py",
      "mimetype": "text/x-python",
      "name": "python",
      "nbconvert_exporter": "python",
      "pygments_lexer": "ipython3",
      "version": "3.7.4"
    }
  },
  "cells": [
    {
      "cell_type": "markdown",
      "metadata": {
        "id": "BsNwjQDRfmLY"
      },
      "source": [
        "# Задание 1"
      ]
    },
    {
      "cell_type": "markdown",
      "metadata": {
        "id": "wu6r1-s7fmLe"
      },
      "source": [
        "---"
      ]
    },
    {
      "cell_type": "markdown",
      "metadata": {
        "id": "zxRIdPO9gYyX"
      },
      "source": [
        "Напишите программу, которая будет решать систему линейных уравнений вида:\n",
        "\n",
        "\\begin{matrix} a_{11}x+a_{12}y=b_{1}&(1) \\\\ a_{21}x+a_{22}y=b_{2} &(2) \\end{matrix}\n",
        "​\t\n",
        "На вход программа должна принимать 2 строки.\n",
        "\n",
        "Каждая строка содержит 3 действительных числа через пробел: коэффициенты a и b.\n",
        "\n",
        "На выходе программа должна выдавать значения x и y в одну строку через пробел.\n",
        " \n",
        "\n",
        "Примечание 1. Для разделения строки на отдельные элементы используйте функцию split()\n",
        "\n",
        "Примечание 2. В качестве разделителя между целой и дробной частью используйте точку, например 0.2"
      ]
    },
    {
      "cell_type": "code",
      "metadata": {
        "id": "6sxlcLbVlrjl",
        "colab": {
          "base_uri": "https://localhost:8080/"
        },
        "outputId": "0f361c74-48ad-48c2-a4ef-9609bb677a48"
      },
      "source": [
        "def linan(firstEquation, secondEquation):\n",
        "  ans = []\n",
        "  firstRateX = firstEquation[0]\n",
        "  secondRateX = secondEquation[0]\n",
        "\n",
        "  firstEquation[0] *= (-secondRateX / firstRateX)\n",
        "  firstEquation[1] *= (-secondRateX / firstRateX)\n",
        "  firstEquation[2] *= (-secondRateX / firstRateX)\n",
        "  \n",
        "\n",
        "  firstEquation[1] += secondEquation[1]\n",
        "  firstEquation[2] += secondEquation[2]\n",
        "  ans.append((secondEquation[2] - (secondEquation[1] * firstEquation[2]/firstEquation[1]))/secondEquation[0])\n",
        "  ans.append(firstEquation[2]/firstEquation[1])\n",
        "  print(ans)\n",
        "  \n",
        "\n",
        "linan([3,-1,85], [5,2,17])"
      ],
      "execution_count": null,
      "outputs": [
        {
          "output_type": "stream",
          "name": "stdout",
          "text": [
            "[17.0, -34.0]\n"
          ]
        }
      ]
    },
    {
      "cell_type": "markdown",
      "metadata": {
        "id": "wLoVDMQnfmOv"
      },
      "source": [
        "# Задание 2"
      ]
    },
    {
      "cell_type": "markdown",
      "metadata": {
        "id": "6bmt_YF3fmOw"
      },
      "source": [
        "Напишите функцию `decorate_matrix`, которая получает на вход одно целое число больше единицы. Функция должна возвращать матрицу n на n, у которой на границах стоят единицы, а на всех остальных позициях(если остались позиции не на границах) стоят нули.\n",
        "\n",
        "Нужно сделать без использования  циклов.\n",
        "\n",
        "```\n",
        "# ожидаемый резальтат для аргумента 5\n",
        "array([[1., 1., 1., 1., 1.],\n",
        "[1., 0., 0., 0., 1.],\n",
        "[1., 0., 0., 0., 1.],\n",
        "[1., 0., 0., 0., 1.],\n",
        "[1., 1., 1., 1., 1.]])\n",
        "```\n",
        "\n"
      ]
    },
    {
      "cell_type": "code",
      "metadata": {
        "colab": {
          "base_uri": "https://localhost:8080/"
        },
        "id": "0WIVU4Le-dXL",
        "outputId": "cf52fc19-6202-47c7-ba31-c60756aa3136"
      },
      "source": [
        "import numpy as np\n",
        "def decorate_matrix(n):\n",
        "  Z = np.zeros((n, n))\n",
        "  Z[:,0]= np.ones(n)\n",
        "  Z[0,:] = np.ones(n)\n",
        "  Z[n - 1,:] = np.ones(n)\n",
        "  Z[:, n - 1] = np.ones(n)\n",
        "  print(Z)\n",
        "decorate_matrix(666)"
      ],
      "execution_count": null,
      "outputs": [
        {
          "output_type": "stream",
          "name": "stdout",
          "text": [
            "[[1. 1. 1. ... 1. 1. 1.]\n",
            " [1. 0. 0. ... 0. 0. 1.]\n",
            " [1. 0. 0. ... 0. 0. 1.]\n",
            " ...\n",
            " [1. 0. 0. ... 0. 0. 1.]\n",
            " [1. 0. 0. ... 0. 0. 1.]\n",
            " [1. 1. 1. ... 1. 1. 1.]]\n"
          ]
        }
      ]
    },
    {
      "cell_type": "markdown",
      "metadata": {
        "id": "75sxny1zSCbl"
      },
      "source": [
        "# Задание 3"
      ]
    },
    {
      "cell_type": "markdown",
      "metadata": {
        "id": "2Xq1tBBAS5UJ"
      },
      "source": [
        "1) реализуйте 2 функции:\n",
        "\n",
        "$f(x) = (x+a)^2 - b$ \n",
        "\n",
        "$g(x) = |f(x)|$\n",
        "\n",
        "2) Найдите аргументы, при которых достигается минимум функций $f(x)$ и $g(x)$\n",
        "\n",
        "Пример. \n",
        "Входные значение: $a=3$ и $b=4$\n",
        "\n",
        "Выходные значения:\n",
        "\n",
        "`-3.0 -1.0`"
      ]
    },
    {
      "cell_type": "code",
      "metadata": {
        "id": "b-3KFy_CR_JP",
        "colab": {
          "base_uri": "https://localhost:8080/"
        },
        "outputId": "96bc2b2c-4836-4123-ad7d-3eb400d2fb68"
      },
      "source": [
        "import math as m\n",
        "import numpy as np\n",
        "from scipy.optimize import fmin\n",
        "\n",
        "def f(x, a, b):\n",
        "  return (x + a) ** 2 - b\n",
        "\n",
        "def g(x, a, b):\n",
        "  return abs(f(x, a, b))\n",
        "  \n",
        "\n",
        "print(fmin(f, 0, args=(3, 4)))\n",
        "print(fmin(g, 0, args=(3, 4)))"
      ],
      "execution_count": null,
      "outputs": [
        {
          "output_type": "stream",
          "name": "stdout",
          "text": [
            "Optimization terminated successfully.\n",
            "         Current function value: -4.000000\n",
            "         Iterations: 28\n",
            "         Function evaluations: 56\n",
            "[-3.]\n",
            "Optimization terminated successfully.\n",
            "         Current function value: 0.000000\n",
            "         Iterations: 27\n",
            "         Function evaluations: 54\n",
            "[-1.]\n"
          ]
        }
      ]
    },
    {
      "cell_type": "markdown",
      "metadata": {
        "id": "efml9GzISC9Q"
      },
      "source": [
        "# Задание 4"
      ]
    },
    {
      "cell_type": "markdown",
      "metadata": {
        "id": "SDZvKcsTVbAW"
      },
      "source": [
        "Постройте графики для функций из предыдущего задания и отметьте другим цветом на графиках точки найденных минимумов."
      ]
    },
    {
      "cell_type": "code",
      "metadata": {
        "colab": {
          "base_uri": "https://localhost:8080/",
          "height": 265
        },
        "id": "qdinhxTwgPps",
        "outputId": "faf194dc-ba63-49dd-e792-43da6b9a7fb7"
      },
      "source": [
        "import math as m\n",
        "import numpy as np\n",
        "import matplotlib.pyplot as plt\n",
        "from scipy.optimize import fmin\n",
        "\n",
        "def f(x, a, b):\n",
        "  return ((x + a) ** 2 - b)\n",
        "\n",
        "def g(x, a, b):\n",
        "  return np.abs(f(x, a, b))\n",
        "  \n",
        "\n",
        "Fxlist = np.linspace(-10,5,100)\n",
        "Fylist = f(Fxlist, 3, 4)\n",
        "\n",
        "Gxlist = np.linspace(-10,5,100)\n",
        "Gylist = g(Gxlist, 3, 4)\n",
        "\n",
        "\n",
        "fig = plt.figure()\n",
        "\n",
        "\n",
        "# plot the function\n",
        "plt.plot(Fxlist, Fylist, 'g')\n",
        "plt.plot(Gxlist, np.abs(Fylist), 'r')\n",
        "plt.plot(-3,-4,'co')\n",
        "plt.plot(-1,0,'mo')\n",
        "\n",
        "\n",
        "# show the plot\n",
        "plt.show()"
      ],
      "execution_count": null,
      "outputs": [
        {
          "output_type": "display_data",
          "data": {
            "image/png": "[encoded data removed]",
            "text/plain": [
              "<Figure size 432x288 with 1 Axes>"
            ]
          },
          "metadata": {
            "needs_background": "light"
          }
        }
      ]
    },
    {
      "cell_type": "markdown",
      "metadata": {
        "id": "mrby3EfiSDKJ"
      },
      "source": [
        "# Задание 5"
      ]
    },
    {
      "cell_type": "markdown",
      "metadata": {
        "id": "J6AZ8785VkQd"
      },
      "source": [
        "1000 человек бросают монетку. Каждый бросил 10 раз подряд.\n",
        "\n",
        " 1. Какова вероятность того, что хотя бы у одного человека монетка выпала 10 раз подряд той же самой стороной (орлом или решкой)? \n",
        " 2. Какова вероятность того, что хотя бы у одного человека монетка выпала 8 раз подряд той же самой стороной (орлом или решкой)? \n",
        " 3. Какова вероятность того, что ровно у троих человек из 1000 монетка выпала 10 раз подряд той же самой стороной (орлом или решкой)?"
      ]
    },
    {
      "cell_type": "code",
      "metadata": {
        "id": "ZgzfAtVUWjvX",
        "colab": {
          "base_uri": "https://localhost:8080/"
        },
        "outputId": "aa6e9507-ab3e-4684-e744-dd974152cdd1"
      },
      "source": [
        "import random as rmd\n",
        "\n",
        "def getOnePersonResults():\n",
        "    currStep = 0\n",
        "    heads = 0\n",
        "    tails = 0\n",
        "    prevState = 0\n",
        "    currState = 0\n",
        "    cont = 0\n",
        "\n",
        "    onePersonResult = []\n",
        "\n",
        "    for i in range(10):\n",
        "        currStep += 1\n",
        "\n",
        "        if rmd.random() <= 0.5:\n",
        "            heads += 1\n",
        "            currState = 0\n",
        "            if currStep <= 1:\n",
        "                cont = 1\n",
        "            else:\n",
        "                if prevState == currState:\n",
        "                    cont += 1\n",
        "                else:\n",
        "                    cont = 0\n",
        "            prevState = 0\n",
        "        else:\n",
        "            tails += 1\n",
        "            currState = 1\n",
        "            if currStep == 1:\n",
        "                cont = 1\n",
        "            else:\n",
        "                if prevState == currState:\n",
        "                    cont += 1\n",
        "                else:\n",
        "                    cont = 0\n",
        "            prevState = 1\n",
        "\n",
        "        onePersonResult.append(cont)\n",
        "\n",
        "    return onePersonResult\n",
        "\n",
        "\n",
        "def getThousandsPeopleResult():\n",
        "    cnt8continuesCases = 0\n",
        "    cnt10continuesCases = 0\n",
        "\n",
        "    for i in range(1000):\n",
        "\n",
        "        onePersonResult = getOnePersonResults()\n",
        "\n",
        "        if onePersonResult[7] == 8 or onePersonResult[8] == 8 or onePersonResult[9] == 8:\n",
        "            cnt8continuesCases += 1\n",
        "\n",
        "        if onePersonResult[9] == 10:\n",
        "            cnt10continuesCases += 1\n",
        "\n",
        "    overAllResults = [cnt8continuesCases,cnt10continuesCases]\n",
        "\n",
        "    return overAllResults\n",
        "\n",
        "# n - number of experiments which we need to take\n",
        "def runExperiment(n):\n",
        "\n",
        "    cnt8continuesCases = 0\n",
        "    cnt10continuesCases = 0\n",
        "    cnt10continuesCasesFor3People = 0\n",
        "\n",
        "    for i in range(n):\n",
        "        overAllResults = getThousandsPeopleResult()\n",
        "\n",
        "        if overAllResults[0] >= 1:\n",
        "            cnt8continuesCases += 1\n",
        "\n",
        "        if overAllResults[1] >= 1:\n",
        "            cnt10continuesCases += 1\n",
        "\n",
        "            if overAllResults[1] == 3:\n",
        "                cnt10continuesCasesFor3People += 1\n",
        "\n",
        "    print(cnt8continuesCases / n)\n",
        "    print(cnt10continuesCases / n)\n",
        "    print(cnt10continuesCasesFor3People / n)\n",
        "\n",
        "\n",
        "runExperiment(10000)"
      ],
      "execution_count": 54,
      "outputs": [
        {
          "output_type": "stream",
          "name": "stdout",
          "text": [
            "1.0\n",
            "0.8586\n",
            "0.1647\n"
          ]
        }
      ]
    }
  ]
}